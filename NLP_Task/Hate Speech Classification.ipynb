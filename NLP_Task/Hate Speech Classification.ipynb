{
 "cells": [
  {
   "cell_type": "markdown",
   "metadata": {
    "id": "ySsIPBRiorxK"
   },
   "source": [
    "**Dataset**\n",
    "labeled dataset collected from twitter (Hate Speech.tsv)\n",
    "\n",
    "**Objective**\n",
    "classify tweets containing hate speech from other tweets. <br>\n",
    "0 -> no hate speech <br>\n",
    "1 -> contains hate speech <br>\n",
    "\n",
    "**Evaluation metric**\n",
    "macro f1 score\n",
    "\n",
    "**Steps**\n",
    "\n",
    "To classify hate speech in tweets, follow these key steps:\n",
    "\n",
    "1. **Data Preprocessing**: Clean text (remove punctuation, stopwords, etc.), lowercase, tokenize, and so on.\n",
    "2. **Text Representation**: Use Bag of Words, TF-IDF, or word embeddings (e.g., GloVe, Word2Vec, or FastText).\n",
    "3. **Modeling Approaches**:\n",
    "   - **Traditional Models**: Logistic Regression, Naive Bayes, SVM, Random Forest.\n",
    "   - **Deep Learning**: LSTM or RNN.\n",
    "4. **Evaluation**\n",
    "5. **Optimization**: Use hyperparameter tuning, regularization, and ensemble methods for better performance.\n"
   ]
  },
  {
   "cell_type": "markdown",
   "metadata": {
    "id": "v-6lrKz6orxT"
   },
   "source": [
    "### Import used libraries"
   ]
  },
  {
   "cell_type": "code",
   "execution_count": 1,
   "metadata": {
    "id": "eXUPo3g4orxV"
   },
   "outputs": [],
   "source": [
    "import pandas as pd\n",
    "pd.set_option('display.max_rows', 500)\n",
    "pd.set_option('display.max_colwidth', 500)"
   ]
  },
  {
   "cell_type": "markdown",
   "metadata": {
    "id": "fG8MkuvjorxX"
   },
   "source": [
    "### Load Dataset"
   ]
  },
  {
   "cell_type": "markdown",
   "metadata": {},
   "source": [
    "###### Note: search how to load the data from tsv file"
   ]
  },
  {
   "cell_type": "code",
   "execution_count": 2,
   "metadata": {
    "id": "BYeqhp66orxY"
   },
   "outputs": [
    {
     "data": {
      "text/html": [
       "<div>\n",
       "<style scoped>\n",
       "    .dataframe tbody tr th:only-of-type {\n",
       "        vertical-align: middle;\n",
       "    }\n",
       "\n",
       "    .dataframe tbody tr th {\n",
       "        vertical-align: top;\n",
       "    }\n",
       "\n",
       "    .dataframe thead th {\n",
       "        text-align: right;\n",
       "    }\n",
       "</style>\n",
       "<table border=\"1\" class=\"dataframe\">\n",
       "  <thead>\n",
       "    <tr style=\"text-align: right;\">\n",
       "      <th></th>\n",
       "      <th>id</th>\n",
       "      <th>label</th>\n",
       "      <th>tweet</th>\n",
       "    </tr>\n",
       "  </thead>\n",
       "  <tbody>\n",
       "    <tr>\n",
       "      <th>0</th>\n",
       "      <td>1</td>\n",
       "      <td>0</td>\n",
       "      <td>@user when a father is dysfunctional and is so selfish he drags his kids into his dysfunction.   #run</td>\n",
       "    </tr>\n",
       "    <tr>\n",
       "      <th>1</th>\n",
       "      <td>2</td>\n",
       "      <td>0</td>\n",
       "      <td>@user @user thanks for #lyft credit i can't use cause they don't offer wheelchair vans in pdx.    #disapointed #getthanked</td>\n",
       "    </tr>\n",
       "    <tr>\n",
       "      <th>2</th>\n",
       "      <td>3</td>\n",
       "      <td>0</td>\n",
       "      <td>bihday your majesty</td>\n",
       "    </tr>\n",
       "    <tr>\n",
       "      <th>3</th>\n",
       "      <td>4</td>\n",
       "      <td>0</td>\n",
       "      <td>#model   i love u take with u all the time in urð±!!! ððððð¦ð¦ð¦</td>\n",
       "    </tr>\n",
       "    <tr>\n",
       "      <th>4</th>\n",
       "      <td>5</td>\n",
       "      <td>0</td>\n",
       "      <td>factsguide: society now    #motivation</td>\n",
       "    </tr>\n",
       "  </tbody>\n",
       "</table>\n",
       "</div>"
      ],
      "text/plain": [
       "   id  label  \\\n",
       "0   1      0   \n",
       "1   2      0   \n",
       "2   3      0   \n",
       "3   4      0   \n",
       "4   5      0   \n",
       "\n",
       "                                                                                                                        tweet  \n",
       "0                       @user when a father is dysfunctional and is so selfish he drags his kids into his dysfunction.   #run  \n",
       "1  @user @user thanks for #lyft credit i can't use cause they don't offer wheelchair vans in pdx.    #disapointed #getthanked  \n",
       "2                                                                                                         bihday your majesty  \n",
       "3                                        #model   i love u take with u all the time in urð±!!! ðððð\n",
       "ð¦ð¦ð¦  \n",
       "4                                                                                      factsguide: society now    #motivation  "
      ]
     },
     "execution_count": 2,
     "metadata": {},
     "output_type": "execute_result"
    }
   ],
   "source": [
    "df = pd.read_csv(\"Hate Speech.tsv\", sep= \"\\t\")\n",
    "df.head()"
   ]
  },
  {
   "cell_type": "markdown",
   "metadata": {},
   "source": [
    "### Data splitting"
   ]
  },
  {
   "cell_type": "markdown",
   "metadata": {},
   "source": [
    "It is a good practice to split the data before EDA helps maintain the integrity of the machine learning process, prevents data leakage, simulates real-world scenarios more accurately, and ensures reliable model performance evaluation on unseen data."
   ]
  },
  {
   "cell_type": "code",
   "execution_count": null,
   "metadata": {},
   "outputs": [
    {
     "name": "stdout",
     "output_type": "stream",
     "text": [
      "Train set size: 25228, Test set size: 6307\n"
     ]
    }
   ],
   "source": [
    "from sklearn.model_selection import train_test_split\n",
    "\n",
    "train, test = train_test_split(df, test_size=0.2, random_state=42, stratify=df['label']) # stratify the label column to ensure equal distribution of classes in both train and test set\n",
    "print(f\"Train set size: {len(train)}, Test set size: {len(test)}\")"
   ]
  },
  {
   "cell_type": "markdown",
   "metadata": {
    "id": "hqWVKi_GorxZ"
   },
   "source": [
    "### EDA on training data"
   ]
  },
  {
   "cell_type": "markdown",
   "metadata": {
    "id": "R1zxJpFxorxa"
   },
   "source": [
    "- check NaNs"
   ]
  },
  {
   "cell_type": "code",
   "execution_count": 9,
   "metadata": {
    "id": "HVEttSujorxa"
   },
   "outputs": [
    {
     "data": {
      "text/plain": [
       "id       0\n",
       "label    0\n",
       "tweet    0\n",
       "dtype: int64"
      ]
     },
     "execution_count": 9,
     "metadata": {},
     "output_type": "execute_result"
    }
   ],
   "source": [
    "train.isnull().sum()"
   ]
  },
  {
   "cell_type": "markdown",
   "metadata": {
    "id": "UwjbzVaIorxb"
   },
   "source": [
    "- check duplicates"
   ]
  },
  {
   "cell_type": "code",
   "execution_count": 10,
   "metadata": {
    "id": "J_FlBWISorxb"
   },
   "outputs": [
    {
     "data": {
      "text/plain": [
       "0"
      ]
     },
     "execution_count": 10,
     "metadata": {},
     "output_type": "execute_result"
    }
   ],
   "source": [
    "train.duplicated().sum()"
   ]
  },
  {
   "cell_type": "markdown",
   "metadata": {
    "id": "YjIBFc35orxc"
   },
   "source": [
    "- show a representative sample of data texts to find out required preprocessing steps"
   ]
  },
  {
   "cell_type": "code",
   "execution_count": 18,
   "metadata": {
    "id": "zGFKzSCRorxc"
   },
   "outputs": [
    {
     "name": "stdout",
     "output_type": "stream",
     "text": [
      "Sample of training data texts:\n",
      "25907                                                                                                               #girls cum on #face\n",
      "7470                                               these hoes miserable so they go out their way to try to make somebody else miserable\n",
      "17509                                                                                                cheese and crackers for dinner amp\n",
      "14920    @user @user they should be cancelled/moved but they won't.  it is too late...too much $$$ lost to big wigs.  games will go on.\n",
      "5757                                              #auditions #shopping @ #laminiatura #saltandstraw #pooltime #beginning of summer  â¦\n",
      "3923                                @user found a shitload of cool #graffiti  pieces in cool #stockholm.   check:  later for all....â¦\n",
      "28128                                                                                    yes!! do it to it!! ððªðð   #monday\n",
      "3206                           happy at work *conference: right mindset leads to culture-of-development organizations    #work #mindset\n",
      "17427                               @user yay, let's talk food on the 14th as we do every day of the month :) #everycharactermatters   \n",
      "11743                                               @user ð¢ð¥ð? share your story on  and get emotional suppo.   #alone #friends\n",
      "Name: tweet, dtype: object\n"
     ]
    }
   ],
   "source": [
    "print(\"Sample of training data texts:\")\n",
    "print(train['tweet'].sample(10, random_state=42))"
   ]
  },
  {
   "cell_type": "markdown",
   "metadata": {
    "id": "UqdSUtbdorxd"
   },
   "source": [
    "- check dataset balancing"
   ]
  },
  {
   "cell_type": "code",
   "execution_count": 21,
   "metadata": {
    "id": "JBHrSvXhorxd"
   },
   "outputs": [
    {
     "name": "stdout",
     "output_type": "stream",
     "text": [
      "Class distribution in training data:\n",
      "label\n",
      "0    0.92984\n",
      "1    0.07016\n",
      "Name: proportion, dtype: float64\n"
     ]
    }
   ],
   "source": [
    "# Check class distribution\n",
    "class_distribution = train['label'].value_counts(normalize=True)\n",
    "print(\"Class distribution in training data:\")\n",
    "print(class_distribution)"
   ]
  },
  {
   "cell_type": "markdown",
   "metadata": {},
   "source": [
    "The class distribution indicates a significant imbalance, with about 93% of tweets labeled as non-hate speech (0) and only 7% as hate speech (1).\n",
    "metrics like: \n",
    "- precision \n",
    "- recall \n",
    "- F1-score *(specifically, the macro F1-score)* \n",
    "\n",
    "**Are more suitable for imbalanced datasets.**\n"
   ]
  },
  {
   "cell_type": "markdown",
   "metadata": {
    "id": "x3wl_crkorxd"
   },
   "source": [
    "- Cleaning and Preprocessing are:\n",
    "    - 1 **remove punctuation** (generally do not carry semantic meaning for text classification)\n",
    "    - 2 **remove stopwords** (common words that do not carry much information)\n",
    "    - 3 **remove URLs** (do not carry semantic meaning for text classification)\n",
    "    - 4 **remove mentions** ( eg. @username do not carry semantic meaning for text classification)\n",
    "    - 5 **remove hashtags** (Hashtags are often used to categorize tweets, but they can introduce irrelevant information)\n",
    "    - 6 **lemmatization** (reduce words to their base or root form)\n",
    "    - 7 **lowercasing** (convert all text to lowercase to ensure uniformity)\n",
    "    - 8 **tokenization** "
   ]
  },
  {
   "cell_type": "markdown",
   "metadata": {
    "id": "XyJkqK9gorxe"
   },
   "source": [
    "### Cleaning and Preprocessing"
   ]
  },
  {
   "cell_type": "markdown",
   "metadata": {
    "tags": []
   },
   "source": [
    "#### Use custom scikit-learn Transformers"
   ]
  },
  {
   "cell_type": "markdown",
   "metadata": {},
   "source": [
    "Using custom transformers in scikit-learn provides flexibility, reusability, and control over the data transformation process, allowing you to seamlessly integrate with scikit-learn's pipelines, enabling you to combine multiple preprocessing steps and modeling into a single workflow. This makes your code more modular, readable, and easier to maintain."
   ]
  },
  {
   "cell_type": "markdown",
   "metadata": {
    "tags": []
   },
   "source": [
    "##### link: https://www.andrewvillazon.com/custom-scikit-learn-transformers/"
   ]
  },
  {
   "cell_type": "markdown",
   "metadata": {},
   "source": [
    "#### Example usage:"
   ]
  },
  {
   "cell_type": "code",
   "execution_count": null,
   "metadata": {},
   "outputs": [],
   "source": [
    "# from sklearn.base import BaseEstimator, TransformerMixin\n",
    "\n",
    "# class CustomTransformer(BaseEstimator, TransformerMixin):\n",
    "#     def __init__(self, parameter1, parameter2):\n",
    "#         self.parameter1 = parameter1\n",
    "#         self.parameter2 = parameter2\n",
    "        \n",
    "#         # Add any initialization code here\n",
    "    \n",
    "#     def fit(self, X, y=None):\n",
    "#         # Add code for fitting the transformer here\n",
    "#         return X\n",
    "    \n",
    "#     def transform(self, X):\n",
    "#         # Add code for transforming the data here\n",
    "#         transformed_X = X.copy()  # Example: Just copying the data\n",
    "        \n",
    "#         # Example transformation\n",
    "#         transformed_X['feature1'] = transformed_X['feature1'] * self.parameter1\n",
    "#         transformed_X['feature2'] = transformed_X['feature2'] * self.parameter2\n",
    "        \n",
    "#         # Do all the needed transformations and data preprocessing here\n",
    "        \n",
    "#         return transformed_X\n",
    "    \n",
    "#     def fit_transform(self, X, y=None):\n",
    "#         # This function combines fit and transform\n",
    "#         self.fit(X, y)\n",
    "#         return self.transform(X)"
   ]
  },
  {
   "cell_type": "code",
   "execution_count": 30,
   "metadata": {
    "id": "GVjzzLhworxe"
   },
   "outputs": [
    {
     "name": "stderr",
     "output_type": "stream",
     "text": [
      "[nltk_data] Downloading package stopwords to\n",
      "[nltk_data]     C:\\Users\\ziad.abdlhamed\\AppData\\Roaming\\nltk_data...\n",
      "[nltk_data]   Package stopwords is already up-to-date!\n",
      "[nltk_data] Downloading package punkt to\n",
      "[nltk_data]     C:\\Users\\ziad.abdlhamed\\AppData\\Roaming\\nltk_data...\n",
      "[nltk_data]   Package punkt is already up-to-date!\n",
      "[nltk_data] Downloading package wordnet to\n",
      "[nltk_data]     C:\\Users\\ziad.abdlhamed\\AppData\\Roaming\\nltk_data...\n",
      "[nltk_data]   Package wordnet is already up-to-date!\n",
      "[nltk_data] Downloading package punkt to\n",
      "[nltk_data]     C:\\Users\\ziad.abdlhamed\\AppData\\Roaming\\nltk_data...\n",
      "[nltk_data]   Package punkt is already up-to-date!\n"
     ]
    },
    {
     "data": {
      "text/plain": [
       "True"
      ]
     },
     "execution_count": 30,
     "metadata": {},
     "output_type": "execute_result"
    }
   ],
   "source": [
    "import nltk\n",
    "from nltk.corpus import stopwords\n",
    "from nltk.tokenize import word_tokenize\n",
    "from nltk.stem import WordNetLemmatizer\n",
    "nltk.download('stopwords')\n",
    "nltk.download('punkt')\n",
    "nltk.download('wordnet')\n",
    "nltk.download('punkt')\n"
   ]
  },
  {
   "cell_type": "code",
   "execution_count": null,
   "metadata": {
    "id": "u2EYQvrBorxf"
   },
   "outputs": [],
   "source": [
    "import re\n",
    "from sklearn.base import BaseEstimator, TransformerMixin\n",
    "class TextPreprocessor(BaseEstimator, TransformerMixin):\n",
    "    def __init__(self):\n",
    "        self.stop_words = set(stopwords.words('english'))\n",
    "        self.lemmatizer = WordNetLemmatizer()\n",
    "    \n",
    "    def fit(self, X, y=None):\n",
    "        return self\n",
    "    \n",
    "    def transform(self, X):\n",
    "        return X.apply(self.clean_text)\n",
    "    \n",
    "    def clean_text(self, text):\n",
    "        text = re.sub(r'[^\\w\\s]', '', text)  # Remove punctuation\n",
    "        text = re.sub(r'http\\S+|www\\S+', '', text)  # Remove URLs\n",
    "        text = re.sub(r'@\\w+', '', text)  # Remove mentions\n",
    "        text = re.sub(r'#', '', text)  # Remove hashtags\n",
    "        text = text.lower()  # Convert to lowercase\n",
    "        tokens = word_tokenize(text)  # Tokenize the text\n",
    "        tokens = [word for word in tokens if word not in self.stop_words]  # Remove stopwords\n",
    "        tokens = [self.lemmatizer.lemmatize(word) for word in tokens]  # Lemmatize the text\n",
    "        return ' '.join(tokens)\n",
    "    \n",
    "    def fit_transform(self, X, y=None):\n",
    "        self.fit(X, y)\n",
    "        return self.transform(X)\n"
   ]
  },
  {
   "cell_type": "markdown",
   "metadata": {
    "id": "ba0r1ASHorxf"
   },
   "source": [
    "**You  are doing Great so far!**"
   ]
  },
  {
   "cell_type": "markdown",
   "metadata": {
    "id": "R9BhRQbYorxf"
   },
   "source": [
    "### Modelling"
   ]
  },
  {
   "cell_type": "markdown",
   "metadata": {
    "id": "Au1FYDPzorxg"
   },
   "source": [
    "#### Extra: use scikit-learn pipline"
   ]
  },
  {
   "cell_type": "markdown",
   "metadata": {},
   "source": [
    "##### link: https://scikit-learn.org/stable/modules/generated/sklearn.pipeline.Pipeline.html"
   ]
  },
  {
   "cell_type": "markdown",
   "metadata": {},
   "source": [
    "Using pipelines in scikit-learn promotes better code organization, reproducibility, and efficiency in machine learning workflows."
   ]
  },
  {
   "cell_type": "markdown",
   "metadata": {
    "id": "LP5FZzmborxg"
   },
   "source": [
    "#### Example usage:"
   ]
  },
  {
   "cell_type": "code",
   "execution_count": 179,
   "metadata": {
    "tags": []
   },
   "outputs": [],
   "source": [
    "# from sklearn.pipeline import Pipeline\n",
    "\n",
    "# model = LogisticRegression()\n",
    "\n",
    "# # Create the pipeline\n",
    "# pipeline = Pipeline(steps=[\n",
    "#     ('preprocessing', CustomTransformer()),\n",
    "#     ('Vectorizing', Vectorizer()),\n",
    "#     ('model', model),\n",
    "# ])\n",
    "\n",
    "# # Now you can use the pipeline for training and prediction\n",
    "# # pipeline.fit(X_train, y_train)\n",
    "# # pipeline.predict(X_test)"
   ]
  },
  {
   "cell_type": "code",
   "execution_count": 207,
   "metadata": {},
   "outputs": [],
   "source": [
    "from gensim.models import Word2Vec\n",
    "import numpy as np\n",
    "class Word2VecVectorizer(BaseEstimator, TransformerMixin):\n",
    "    def __init__(self, size=200, min_count=1, window=3):\n",
    "        self.size = size\n",
    "        self.min_count = min_count\n",
    "        self.window = window\n",
    "    \n",
    "    def fit(self, X, y=None):\n",
    "        tokenized_texts = [word_tokenize(text) for text in X]\n",
    "        self.model = Word2Vec(sentences=tokenized_texts, vector_size=self.size, min_count=self.min_count, window=self.window)\n",
    "        return self\n",
    "    \n",
    "    def transform(self, X):\n",
    "        return np.array([self.vectorize_text(text) for text in X])\n",
    "    \n",
    "    def vectorize_text(self, text):\n",
    "        tokens = word_tokenize(text)\n",
    "        vectors = [self.model.wv[word] for word in tokens if word in self.model.wv]\n",
    "        return np.mean(vectors, axis=0) if vectors else np.zeros(self.size)"
   ]
  },
  {
   "cell_type": "code",
   "execution_count": 208,
   "metadata": {},
   "outputs": [],
   "source": [
    "from xgboost import XGBClassifier\n",
    "model = XGBClassifier(n_estimators=1000, max_depth=7, learning_rate=0.1, random_state=42)"
   ]
  },
  {
   "cell_type": "markdown",
   "metadata": {},
   "source": [
    "**XGBoost** often handle imbalance well, so it is a good choice for starting with."
   ]
  },
  {
   "cell_type": "code",
   "execution_count": null,
   "metadata": {},
   "outputs": [],
   "source": [
    "from sklearn.pipeline import Pipeline\n",
    "from sklearn.metrics import classification_report\n",
    "\n",
    "# Create the pipeline\n",
    "pipeline = Pipeline(steps=[\n",
    "    ('preprocessing', TextPreprocessor()),   # Step 1: Text cleaning\n",
    "    ('vectorizing', Word2VecVectorizer()),      # Step 2: Text vectorization\n",
    "    ('model', model)                         # Step 3: Classification model\n",
    "])"
   ]
  },
  {
   "cell_type": "markdown",
   "metadata": {
    "id": "85JlkIQXorxg"
   },
   "source": [
    "#### Evaluation"
   ]
  },
  {
   "cell_type": "markdown",
   "metadata": {},
   "source": [
    "**Evaluation metric:**\n",
    "macro f1 score\n",
    "\n",
    "Macro F1 score is a useful metric in scenarios where you want to evaluate the overall performance of a multi-class classification model, **particularly when the classes are imbalanced**"
   ]
  },
  {
   "cell_type": "markdown",
   "metadata": {},
   "source": [
    "![Calculation](https://assets-global.website-files.com/5d7b77b063a9066d83e1209c/639c3d934e82c1195cdf3c60_macro-f1.webp)"
   ]
  },
  {
   "cell_type": "code",
   "execution_count": 210,
   "metadata": {},
   "outputs": [
    {
     "name": "stdout",
     "output_type": "stream",
     "text": [
      "              precision    recall  f1-score   support\n",
      "\n",
      "           0       0.94      1.00      0.97      5864\n",
      "           1       0.78      0.22      0.35       443\n",
      "\n",
      "    accuracy                           0.94      6307\n",
      "   macro avg       0.86      0.61      0.66      6307\n",
      "weighted avg       0.93      0.94      0.93      6307\n",
      "\n"
     ]
    }
   ],
   "source": [
    "# Fit the pipeline on the training data\n",
    "pipeline.fit(train['tweet'], train['label'])\n",
    "\n",
    "# Make predictions on the test data\n",
    "y_pred = pipeline.predict(test['tweet'])\n",
    "\n",
    "# Evaluate model performance\n",
    "print(classification_report(test['label'], y_pred))"
   ]
  },
  {
   "cell_type": "code",
   "execution_count": 211,
   "metadata": {
    "id": "37C70N6Aorxh"
   },
   "outputs": [
    {
     "data": {
      "image/png": "[encoded data removed]",
      "text/plain": [
       "<Figure size 800x600 with 2 Axes>"
      ]
     },
     "metadata": {},
     "output_type": "display_data"
    }
   ],
   "source": [
    "# confusion matrix\n",
    "from sklearn.metrics import confusion_matrix\n",
    "import seaborn as sns\n",
    "import matplotlib.pyplot as plt\n",
    "\n",
    "def plot_confusion_matrix(y_true, y_pred):\n",
    "    cm = confusion_matrix(y_true, y_pred)\n",
    "    plt.figure(figsize=(8, 6))\n",
    "    sns.heatmap(cm, annot=True, fmt='d', cmap='Blues', xticklabels=['Non-Hate', 'Hate'], yticklabels=['Non-Hate', 'Hate'])\n",
    "    plt.xlabel('Predicted labels')\n",
    "    plt.ylabel('True labels')\n",
    "    plt.title('Confusion Matrix')\n",
    "    plt.show()\n",
    "\n",
    "plot_confusion_matrix(test['label'], y_pred)"
   ]
  },
  {
   "cell_type": "markdown",
   "metadata": {},
   "source": [
    "The XGBoost model performs exceptionally well on the `Non-Hate` class but has moderate recall on the `Hate` class, suggesting that it struggles with detecting hate speech. Improvements in handling class imbalance , fine-tuning parameters for \"Hate\" sensitivity might enhance performance on the minority class."
   ]
  },
  {
   "cell_type": "markdown",
   "metadata": {
    "id": "fhVFUaIcorxh"
   },
   "source": [
    "### Enhancement\n",
    "\n",
    "- Using different text representation or modeling techniques\n",
    "- Hyperparameter tuning"
   ]
  },
  {
   "cell_type": "code",
   "execution_count": 201,
   "metadata": {},
   "outputs": [
    {
     "name": "stdout",
     "output_type": "stream",
     "text": [
      "Scale_pos_weight: 6.626553672316384\n"
     ]
    }
   ],
   "source": [
    "# Calculate the scale_pos_weight\n",
    "neg_class = sum(train['label'] == 0)\n",
    "pos_class = sum(train['label'] == 1)\n",
    "scale_pos_weight = (neg_class / pos_class)/2\n",
    "print(f\"Scale_pos_weight: {scale_pos_weight}\")\n"
   ]
  },
  {
   "cell_type": "code",
   "execution_count": null,
   "metadata": {
    "id": "Y4h1Danvorxh"
   },
   "outputs": [],
   "source": [
    "from sklearn.feature_extraction.text import TfidfVectorizer\n",
    "# Update the model with the scale_pos_weight\n",
    "model = XGBClassifier(n_estimators=1000, max_depth=7, learning_rate=0.1, random_state=42, scale_pos_weight=scale_pos_weight)\n",
    "\n",
    "# Create the pipeline\n",
    "pipeline = Pipeline(steps=[\n",
    "    ('preprocessing', TextPreprocessor()),   # Step 1: Text cleaning\n",
    "    ('vectorizing', TfidfVectorizer()),      # Step 2: Text vectorization\n",
    "    ('model', model)                         # Step 3: Classification model\n",
    "])"
   ]
  },
  {
   "cell_type": "code",
   "execution_count": 213,
   "metadata": {
    "id": "ZDsCjdqsorxi"
   },
   "outputs": [
    {
     "name": "stdout",
     "output_type": "stream",
     "text": [
      "              precision    recall  f1-score   support\n",
      "\n",
      "           0       0.97      0.98      0.98      5864\n",
      "           1       0.73      0.63      0.68       443\n",
      "\n",
      "    accuracy                           0.96      6307\n",
      "   macro avg       0.85      0.81      0.83      6307\n",
      "weighted avg       0.96      0.96      0.96      6307\n",
      "\n"
     ]
    }
   ],
   "source": [
    "# Fit the pipeline on the training data\n",
    "pipeline.fit(train['tweet'], train['label'])\n",
    "\n",
    "# Make predictions on the test data\n",
    "y_pred = pipeline.predict(test['tweet'])\n",
    "\n",
    "# Evaluate model performance\n",
    "print(classification_report(test['label'], y_pred))"
   ]
  },
  {
   "cell_type": "code",
   "execution_count": 214,
   "metadata": {},
   "outputs": [
    {
     "data": {
      "image/png": "[encoded data removed]",
      "text/plain": [
       "<Figure size 800x600 with 2 Axes>"
      ]
     },
     "metadata": {},
     "output_type": "display_data"
    }
   ],
   "source": [
    "plot_confusion_matrix(test['label'], y_pred)"
   ]
  },
  {
   "cell_type": "markdown",
   "metadata": {},
   "source": [
    "### Conclusion and final results"
   ]
  },
  {
   "cell_type": "markdown",
   "metadata": {},
   "source": [
    "I applied the **scale_pos_weight** parameter and switched from **Word2VecVectorizer** to **TfidfVectorizer** to address class imbalance and improve feature representation for the classification task. These adjustments led to a substantial improvement in the model’s performance on the minority `Hate` class.\n",
    "\n",
    "- **Recall for the `Hate` class** improved significantly, from **0.22** to **0.63**, indicating that the model captures more true hate instances.\n",
    "- **Precision for the `Hate` class** dropped slightly from **0.78** to **0.73**, but this trade-off is balanced by the increase in recall.\n",
    "- **Macro average F1-score** increased from **0.66** to **0.83**, showing more balanced performance across both classes.\n",
    "\n",
    "The use of **scale_pos_weight** increased sensitivity to the minority class, while **TfidfVectorizer** highlighted rare, meaningful words, improving overall classification. Together, these enhancements boosted the model’s ability to detect hate speech without compromising accuracy."
   ]
  },
  {
   "cell_type": "markdown",
   "metadata": {
    "id": "Nw1GVnYLorxi"
   },
   "source": [
    "#### Done!"
   ]
  },
  {
   "cell_type": "code",
   "execution_count": 228,
   "metadata": {},
   "outputs": [],
   "source": [
    "import pandas as pd\n",
    "def predict_single_sentence(sentence):\n",
    "    sentence_series = pd.Series([sentence])\n",
    "    prediction = pipeline.predict(sentence_series)[0]\n",
    "    if prediction == 1:\n",
    "        print (\"Hate Speech\")\n",
    "    else:\n",
    "        print(\"Non-Hate Speech\")"
   ]
  },
  {
   "cell_type": "code",
   "execution_count": 229,
   "metadata": {},
   "outputs": [
    {
     "name": "stdout",
     "output_type": "stream",
     "text": [
      "Hate Speech\n"
     ]
    }
   ],
   "source": [
    "predict_single_sentence(\"you are idiot\")"
   ]
  },
  {
   "cell_type": "code",
   "execution_count": 230,
   "metadata": {},
   "outputs": [
    {
     "name": "stdout",
     "output_type": "stream",
     "text": [
      "Non-Hate Speech\n"
     ]
    }
   ],
   "source": [
    "predict_single_sentence(\"i love you\")"
   ]
  }
 ],
 "metadata": {
  "colab": {
   "provenance": []
  },
  "kernelspec": {
   "display_name": "Python 3",
   "language": "python",
   "name": "python3"
  },
  "language_info": {
   "codemirror_mode": {
    "name": "ipython",
    "version": 3
   },
   "file_extension": ".py",
   "mimetype": "text/x-python",
   "name": "python",
   "nbconvert_exporter": "python",
   "pygments_lexer": "ipython3",
   "version": "3.12.7"
  }
 },
 "nbformat": 4,
 "nbformat_minor": 4
}
