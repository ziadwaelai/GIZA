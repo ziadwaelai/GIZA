{
 "cells": [
  {
   "cell_type": "markdown",
   "id": "e1501fce",
   "metadata": {
    "papermill": {
     "duration": 0.00403,
     "end_time": "2024-11-17T15:36:19.190107",
     "exception": false,
     "start_time": "2024-11-17T15:36:19.186077",
     "status": "completed"
    },
    "tags": []
   },
   "source": [
    "# Installition "
   ]
  },
  {
   "cell_type": "code",
   "execution_count": null,
   "id": "af70bf4b",
   "metadata": {
    "_cell_guid": "b1076dfc-b9ad-4769-8c92-a6c4dae69d19",
    "_uuid": "8f2839f25d086af736a60e9eeb907d3b93b6e0e5",
    "execution": {
     "iopub.execute_input": "2024-11-15T19:10:11.595049Z",
     "iopub.status.busy": "2024-11-15T19:10:11.594519Z",
     "iopub.status.idle": "2024-11-15T19:10:32.272572Z",
     "shell.execute_reply": "2024-11-15T19:10:32.270828Z",
     "shell.execute_reply.started": "2024-11-15T19:10:11.594999Z"
    },
    "papermill": {
     "duration": null,
     "end_time": null,
     "exception": false,
     "start_time": "2024-11-17T15:36:19.193973",
     "status": "running"
    },
    "tags": []
   },
   "outputs": [],
   "source": [
    "%%capture\n",
    "!pip install mlflow pyngrok"
   ]
  },
  {
   "cell_type": "markdown",
   "id": "33b3de48",
   "metadata": {
    "papermill": {
     "duration": null,
     "end_time": null,
     "exception": null,
     "start_time": null,
     "status": "pending"
    },
    "tags": []
   },
   "source": [
    "# before training"
   ]
  },
  {
   "cell_type": "code",
   "execution_count": null,
   "id": "9ad8b13b",
   "metadata": {
    "papermill": {
     "duration": null,
     "end_time": null,
     "exception": null,
     "start_time": null,
     "status": "pending"
    },
    "tags": []
   },
   "outputs": [],
   "source": [
    "import mlflow\n",
    "\n",
    "# Set up MLflow experiment (optional, if not already set)\n",
    "mlflow.set_tracking_uri(\"file:///kaggle/working/mlruns\")  # Saves runs in /kaggle/working/mlruns\n",
    "mlflow.set_experiment(\"Classification_Finetuining_Experiment\")\n",
    "mlflow.start_run(run_name=\"Llama-3.2\") # write here your pre trained model name\n"
   ]
  },
  {
   "cell_type": "markdown",
   "id": "54e02b09",
   "metadata": {
    "papermill": {
     "duration": null,
     "end_time": null,
     "exception": null,
     "start_time": null,
     "status": "pending"
    },
    "tags": []
   },
   "source": [
    "# optional to run mlflow ui and track experiment"
   ]
  },
  {
   "cell_type": "code",
   "execution_count": null,
   "id": "eb3bae34",
   "metadata": {
    "papermill": {
     "duration": null,
     "end_time": null,
     "exception": null,
     "start_time": null,
     "status": "pending"
    },
    "tags": []
   },
   "outputs": [],
   "source": [
    "from pyngrok import ngrok\n",
    "\n",
    "# get ur token from ngrok.com\n",
    "ngrok.set_auth_token(\"\")\n",
    "\n",
    "# Start MLflow UI\n",
    "get_ipython().system_raw(\"mlflow ui --port 5000 &\")\n",
    "# Expose the MLflow UI on port 5000# Expose the MLflow UI on port 5000\n",
    "public_url = ngrok.connect(\"5000\", \"http\")\n",
    "print(f\"MLflow UI accessible at: {public_url}\")\n"
   ]
  },
  {
   "cell_type": "markdown",
   "id": "96f627b4",
   "metadata": {
    "papermill": {
     "duration": null,
     "end_time": null,
     "exception": null,
     "start_time": null,
     "status": "pending"
    },
    "tags": []
   },
   "source": [
    "# expamle how to log param"
   ]
  },
  {
   "cell_type": "code",
   "execution_count": null,
   "id": "7c451832",
   "metadata": {
    "papermill": {
     "duration": null,
     "end_time": null,
     "exception": null,
     "start_time": null,
     "status": "pending"
    },
    "tags": []
   },
   "outputs": [],
   "source": [
    "# Create a dictionary of parameters to log\n",
    "model_params = {\n",
    "    \"Llama_model_name\": \"unsloth/Llama-3.2-3B-bnb-4bit\",\n",
    "    \"Llama_max_seq_length\": max_seq_length,\n",
    "    \"Llama_dtype\": dtype,\n",
    "    \"Llama_load_in_4bit\": load_in_4bit,\n",
    "}\n",
    "\n",
    "# Log all parameters, metrics will be auto logged \n",
    "mlflow.log_params(model_params)"
   ]
  },
  {
   "cell_type": "markdown",
   "id": "90d969fc",
   "metadata": {
    "papermill": {
     "duration": null,
     "end_time": null,
     "exception": null,
     "start_time": null,
     "status": "pending"
    },
    "tags": []
   },
   "source": [
    "# to save mlruns and download it to run it locally "
   ]
  },
  {
   "cell_type": "code",
   "execution_count": null,
   "id": "72747a28",
   "metadata": {
    "papermill": {
     "duration": null,
     "end_time": null,
     "exception": null,
     "start_time": null,
     "status": "pending"
    },
    "tags": []
   },
   "outputs": [],
   "source": [
    "import shutil\n",
    "import os\n",
    "\n",
    "mlruns_path = \"/kaggle/working/mlruns\"  # Path where MLflow runs are saved\n",
    "zip_path = \"/kaggle/working/mlruns.zip\"  # Location for zipped file\n",
    "\n",
    "if os.path.exists(mlruns_path):\n",
    "    shutil.make_archive(base_name=zip_path.replace('.zip', ''), format='zip', root_dir=mlruns_path)\n",
    "    print(\"MLruns directory successfully zipped.\")\n",
    "else:\n",
    "    print(\"MLruns directory does not exist.\")"
   ]
  },
  {
   "cell_type": "code",
   "execution_count": 2,
   "id": "33c55301",
   "metadata": {},
   "outputs": [
    {
     "ename": "ModuleNotFoundError",
     "evalue": "No module named 'ngrok'",
     "output_type": "error",
     "traceback": [
      "\u001b[1;31m---------------------------------------------------------------------------\u001b[0m",
      "\u001b[1;31mModuleNotFoundError\u001b[0m                       Traceback (most recent call last)",
      "Cell \u001b[1;32mIn[2], line 2\u001b[0m\n\u001b[0;32m      1\u001b[0m \u001b[38;5;28;01mimport\u001b[39;00m \u001b[38;5;21;01mmlflow\u001b[39;00m\n\u001b[1;32m----> 2\u001b[0m \u001b[38;5;28;01mimport\u001b[39;00m \u001b[38;5;21;01mngrok\u001b[39;00m\n\u001b[0;32m      3\u001b[0m \u001b[38;5;66;03m# open the mlflow ui\u001b[39;00m\n\u001b[0;32m      4\u001b[0m mlflow_ui \u001b[38;5;241m=\u001b[39m ngrok\u001b[38;5;241m.\u001b[39mconnect(\u001b[38;5;241m5000\u001b[39m)\n",
      "\u001b[1;31mModuleNotFoundError\u001b[0m: No module named 'ngrok'"
     ]
    }
   ],
   "source": [
    "import mlflow\n",
    "import ngrok\n",
    "# open the mlflow ui\n",
    "mlflow_ui = ngrok.connect(5000)\n",
    "mlflow_ui\n",
    "\n"
   ]
  },
  {
   "cell_type": "code",
   "execution_count": 4,
   "id": "10aca44c",
   "metadata": {},
   "outputs": [
    {
     "name": "stdout",
     "output_type": "stream",
     "text": [
      "['.trash', '0', '585820221108395618', 'models']\n"
     ]
    }
   ],
   "source": [
    "import zipfile\n",
    "import os\n",
    "\n",
    "# Unzip the file\n",
    "with zipfile.ZipFile(\"mlruns.zip\", \"r\") as zip_ref:\n",
    "    zip_ref.extractall(\"mlflow_runs\")\n",
    "\n",
    "# Verify extracted files\n",
    "print(os.listdir(\"mlflow_runs\"))\n"
   ]
  },
  {
   "cell_type": "code",
   "execution_count": null,
   "id": "7649728f",
   "metadata": {},
   "outputs": [],
   "source": []
  }
 ],
 "metadata": {
  "kaggle": {
   "accelerator": "none",
   "dataSources": [],
   "dockerImageVersionId": 30786,
   "isGpuEnabled": false,
   "isInternetEnabled": true,
   "language": "python",
   "sourceType": "notebook"
  },
  "kernelspec": {
   "display_name": "Python 3",
   "language": "python",
   "name": "python3"
  },
  "language_info": {
   "codemirror_mode": {
    "name": "ipython",
    "version": 3
   },
   "file_extension": ".py",
   "mimetype": "text/x-python",
   "name": "python",
   "nbconvert_exporter": "python",
   "pygments_lexer": "ipython3",
   "version": "3.12.7"
  },
  "papermill": {
   "default_parameters": {},
   "duration": null,
   "end_time": null,
   "environment_variables": {},
   "exception": null,
   "input_path": "__notebook__.ipynb",
   "output_path": "__notebook__.ipynb",
   "parameters": {},
   "start_time": "2024-11-17T15:36:15.744861",
   "version": "2.6.0"
  }
 },
 "nbformat": 4,
 "nbformat_minor": 5
}
