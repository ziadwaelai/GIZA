{
 "cells": [
  {
   "cell_type": "markdown",
   "metadata": {
    "colab_type": "text",
    "id": "1mpMEcKhrgW2"
   },
   "source": [
    "# Machine Learning: Session 2"
   ]
  },
  {
   "cell_type": "markdown",
   "metadata": {},
   "source": [
    "## Regression, regularization and cross-validation"
   ]
  },
  {
   "cell_type": "markdown",
   "metadata": {
    "colab_type": "text",
    "id": "ihqFj1pFrgW6"
   },
   "source": [
    "In this task you will experiment with linear regression and see what happens when we use regularized versions of it. More precisely, you will try out Ridge and Lasso regularization. In addition, we will see how using cross-validation helps us to get more stable estimates for our performance."
   ]
  },
  {
   "cell_type": "markdown",
   "metadata": {
    "colab_type": "text",
    "id": "3UbfxbEFrgW-"
   },
   "source": [
    "Read in the data in **data.csv** and split it into training (50%) and testing (50%) set. Use random seed 0 (train_test_split method)."
   ]
  },
  {
   "cell_type": "code",
   "execution_count": 34,
   "metadata": {
    "colab": {},
    "colab_type": "code",
    "id": "YmuuypBBrgXB"
   },
   "outputs": [],
   "source": [
    "import pandas as pd\n",
    "import sklearn\n",
    "import numpy as np\n",
    "\n",
    "CRED = '\\033[91m'\n",
    "CEND = '\\033[0m'\n",
    "\n",
    "data = pd.read_csv(\"data.csv\", index_col = 0)"
   ]
  },
  {
   "cell_type": "code",
   "execution_count": 35,
   "metadata": {
    "collapsed": true
   },
   "outputs": [
    {
     "name": "stdout",
     "output_type": "stream",
     "text": [
      "x_train shape: (100, 99) x_test shape: (100, 99) y_train shape: (100,) y_test shape: (100,)\n"
     ]
    }
   ],
   "source": [
    "##### YOUR CODE STARTS ##### (please do not delete this line)\n",
    "X = data.drop(columns = ['y'])\n",
    "y = data['y']\n",
    "\n",
    "from sklearn.model_selection import train_test_split\n",
    "seed = 0\n",
    "X_train, X_test, y_train, y_test = train_test_split(X, y, test_size=0.5, random_state=seed)\n",
    "print(\"x_train shape:\", X_train.shape, \"x_test shape:\", X_test.shape, \"y_train shape:\", y_train.shape, \"y_test shape:\", y_test.shape)"
   ]
  },
  {
   "cell_type": "code",
   "execution_count": null,
   "metadata": {
    "collapsed": true
   },
   "outputs": [],
   "source": []
  },
  {
   "cell_type": "code",
   "execution_count": 36,
   "metadata": {
    "collapsed": true
   },
   "outputs": [],
   "source": [
    "##### YOUR CODE ENDS ##### (please do not delete this line)"
   ]
  },
  {
   "cell_type": "markdown",
   "metadata": {
    "colab_type": "text",
    "id": "WUMSEYExrgXe"
   },
   "source": [
    "## Task 1. Multivariate linear regression (1 point)"
   ]
  },
  {
   "cell_type": "markdown",
   "metadata": {
    "colab_type": "text",
    "id": "9MpPBPoOrgXp"
   },
   "source": [
    "#### <font color='purple'>(a) Implement the fitting procedure of non-regularized multivariate ordinary least squares linear regression, as presented in the lecture slides (matrix operations). Fit on the training data and save the coefficients and the intercept for use in subtask (1c). Print out the coefficients corresponding to the five first features."
   ]
  },
  {
   "cell_type": "code",
   "execution_count": 37,
   "metadata": {
    "colab": {},
    "colab_type": "code",
    "collapsed": true,
    "id": "jb4ZKEeArgXt"
   },
   "outputs": [],
   "source": [
    "##### YOUR CODE STARTS ##### (please do not delete this line)\n",
    "\n",
    "# column of ones to X_train for the intercept\n",
    "X_train_intercept = np.c_[np.ones(X_train.shape[0]), X_train] \n",
    "\n",
    "# Coefficients = (X^T * X)^-1 * X^T * y  ==> closed form solution\n",
    "coefficients = np.linalg.inv(X_train_intercept.T @ X_train_intercept) @ X_train_intercept.T @ y_train\n",
    "\n",
    "# Separate the intercept and feature coefficients\n",
    "intercept = coefficients[0]    # First value is the intercept\n",
    "feature_coefficients = coefficients[1:]  # Remaining are feature coefficients"
   ]
  },
  {
   "cell_type": "code",
   "execution_count": 38,
   "metadata": {
    "collapsed": true
   },
   "outputs": [],
   "source": [
    "first_five_my_ols_coefficients = feature_coefficients[:5]"
   ]
  },
  {
   "cell_type": "code",
   "execution_count": 39,
   "metadata": {
    "collapsed": true
   },
   "outputs": [],
   "source": [
    "##### YOUR CODE ENDS ##### (please do not delete this line)"
   ]
  },
  {
   "cell_type": "code",
   "execution_count": 40,
   "metadata": {},
   "outputs": [
    {
     "name": "stdout",
     "output_type": "stream",
     "text": [
      "Coefficients of five first features according to my OLS implementation: [11.85875833  7.7562925   9.63087962  6.99932448  4.99498325]\n"
     ]
    }
   ],
   "source": [
    "print('Coefficients of five first features according to my OLS implementation:', first_five_my_ols_coefficients)"
   ]
  },
  {
   "cell_type": "markdown",
   "metadata": {
    "colab_type": "text",
    "id": "4-L7ihBRrgX1"
   },
   "source": [
    "#### <font color='purple'>(b) Call out the `sklearn.linear_model.LinearRegression` learning algorithm from the sklearn package. Fit the model on the training data and save it for use in the following subtasks. Print out the coefficients corresponding to the five first features."
   ]
  },
  {
   "cell_type": "code",
   "execution_count": 41,
   "metadata": {
    "colab": {},
    "colab_type": "code",
    "collapsed": true,
    "id": "KAm2_i4PrgX9"
   },
   "outputs": [],
   "source": [
    "##### YOUR CODE STARTS ##### (please do not delete this line)\n",
    "from sklearn.linear_model import LinearRegression\n",
    "\n",
    "lr = LinearRegression()\n",
    "\n",
    "lr.fit(X_train, y_train)\n",
    "\n",
    "intercept_sklearn = lr.intercept_\n",
    "coefficients_sklearn = lr.coef_\n",
    "##### YOUR CODE ENDS ##### (please do not delete this line)"
   ]
  },
  {
   "cell_type": "code",
   "execution_count": 42,
   "metadata": {
    "collapsed": true
   },
   "outputs": [],
   "source": [
    "first_five_sklearn_ols_coefficients = coefficients_sklearn[:5]"
   ]
  },
  {
   "cell_type": "code",
   "execution_count": 43,
   "metadata": {
    "collapsed": true
   },
   "outputs": [],
   "source": [
    "##### YOUR CODE ENDS ##### (please do not delete this line)"
   ]
  },
  {
   "cell_type": "code",
   "execution_count": 44,
   "metadata": {},
   "outputs": [
    {
     "name": "stdout",
     "output_type": "stream",
     "text": [
      "Coefficients of five first features according to sklearn OLS implementation: [11.85875833  7.7562925   9.63087962  6.99932448  4.99498325]\n"
     ]
    }
   ],
   "source": [
    "print('Coefficients of five first features according to sklearn OLS implementation:', first_five_sklearn_ols_coefficients)"
   ]
  },
  {
   "cell_type": "markdown",
   "metadata": {
    "colab_type": "text",
    "id": "qZGgzUlsrgYQ"
   },
   "source": [
    "#### <font color='purple'>(c) Demonstrate that the methods of subtasks (1a) and (1b) give the same results by showing that they find the same coefficients and intercept. </font>\n",
    "\n",
    "You maybe won't get exactly the same results because of precision problems of floats so the idea is to compare if the values are equal up to some precision (e.g. check if the difference is less than 0.000001). If for some reason you are not able to get the assertions to pass with the given precision then please change the precision such that the assertions would pass."
   ]
  },
  {
   "cell_type": "code",
   "execution_count": 45,
   "metadata": {
    "colab": {},
    "colab_type": "code",
    "id": "JJ1AqqkUrgYW"
   },
   "outputs": [
    {
     "name": "stdout",
     "output_type": "stream",
     "text": [
      "The assertions have passed with precision: 1e-06\n"
     ]
    }
   ],
   "source": [
    "try:\n",
    "    ##### YOUR CODE STARTS ##### (please do not delete this line)\n",
    "    # raise NotImplementedError(\"Please assign intercepts and coefficients to the given variables.\")\n",
    "    my_intercept = intercept\n",
    "    my_coefficients = feature_coefficients\n",
    "    sklearn_intercept = intercept_sklearn\n",
    "    sklearn_coefficients = coefficients_sklearn\n",
    "    precision = 0.000001\n",
    "    ##### YOUR CODE ENDS ##### (please do not delete this line)\n",
    "    assert(abs(my_intercept - sklearn_intercept) < precision)\n",
    "    for i in range(99):\n",
    "        assert(abs(my_coefficients[i] - sklearn_coefficients[i]) < precision)\n",
    "    print('The assertions have passed with precision:',precision)\n",
    "except NotImplementedError as e:\n",
    "    print(CRED, \"TODO:\", e, CEND)"
   ]
  },
  {
   "cell_type": "markdown",
   "metadata": {
    "colab_type": "text",
    "id": "OlBDwUAGrgYz"
   },
   "source": [
    "#### <font color='purple'>(d) Using the sklearn model from subtask (1b) predict the results on the training and testing set and calculate and show the root mean square errors (RMSE). Since you need to do the same evaluation in future tasks also, please implement a function 'evaluate' for this."
   ]
  },
  {
   "cell_type": "code",
   "execution_count": 46,
   "metadata": {
    "colab": {},
    "colab_type": "code",
    "id": "XmSVWxLcrgY1"
   },
   "outputs": [
    {
     "name": "stdout",
     "output_type": "stream",
     "text": [
      "\n",
      "#################\n",
      "\n",
      "LinearRegression() \n",
      "\n",
      "RMSE train: 1.814433505226601e-14\n",
      "RMSE test: 7.7151311330274135\n"
     ]
    }
   ],
   "source": [
    "from sklearn.metrics import mean_squared_error\n",
    "def evaluate(regression_model_class_instance, trainX, trainY, testX, testY):\n",
    "    print(\"\\n#################\\n\")\n",
    "    print(regression_model_class_instance, '\\n')\n",
    "    \n",
    "    ##### YOUR CODE STARTS ##### (please do not delete this line)\n",
    "    # raise NotImplementedError(\"Implement RMSE for train and test sets.\")\n",
    "    tr_p = regression_model_class_instance.predict(trainX)\n",
    "    te_p = regression_model_class_instance.predict(testX)\n",
    "\n",
    "    rmse_tr = np.sqrt(mean_squared_error(trainY, tr_p))\n",
    "    rmse_te =  np.sqrt(mean_squared_error(testY, te_p))\n",
    "    ##### YOUR CODE ENDS ##### (please do not delete this line)\n",
    "    print(\"RMSE train:\", rmse_tr)\n",
    "    print(\"RMSE test:\", rmse_te)\n",
    "    \n",
    "    return rmse_tr, rmse_te\n",
    "\n",
    "try:\n",
    "    ##### YOUR CODE STARTS ##### (please do not delete this line)\n",
    "    evaluate(lr, X_train, y_train, X_test, y_test)\n",
    "    ##### YOUR CODE ENDS ##### (please do not delete this line)\n",
    "except NotImplementedError as e:\n",
    "    print(CRED, \"TODO:\", e, CEND)"
   ]
  },
  {
   "cell_type": "markdown",
   "metadata": {
    "colab_type": "text",
    "id": "NZB8XMDbrgZ5"
   },
   "source": [
    "## Task 2. Ridge & Lambda regularized regression  (1 point)"
   ]
  },
  {
   "cell_type": "markdown",
   "metadata": {
    "colab_type": "text",
    "id": "0JPqAyeqrgZ7"
   },
   "source": [
    "This blogpost might clarify regularization a bit: https://towardsdatascience.com/l1-and-l2-regularization-methods-ce25e7fc831c\n",
    "\n",
    "Intuition behind the regularization: https://towardsdatascience.com/intuitions-on-l1-and-l2-regularisation-235f2db4c261"
   ]
  },
  {
   "cell_type": "markdown",
   "metadata": {
    "colab_type": "text",
    "id": "8DGnURMUrgaK"
   },
   "source": [
    "#### <font color='purple'>(a) Implement the fitting procedure of ridge regression, as presented in the lecture slides (matrix operations). Fit on the training data with regularization parameter equal to 1 and save the coefficients and the intercept for use in subtask (2c). Print out the coefficients corresponding to the five first features."
   ]
  },
  {
   "cell_type": "code",
   "execution_count": 47,
   "metadata": {
    "collapsed": true
   },
   "outputs": [],
   "source": [
    "##### YOUR CODE STARTS ##### (please do not delete this line)\n",
    "\n",
    "lambda_ridge = 1\n",
    "\n",
    "X_train_intercept = np.c_[np.ones(X_train.shape[0]), X_train]  # Adding intercept\n",
    "\n",
    "# (X^T * X + λ * I)^-1 * X^T * y\n",
    "identity_matrix = np.eye(X_train_intercept.shape[1])\n",
    "\n",
    "# Ridge coefficients using the formula\n",
    "ridge_coefficients = np.linalg.solve(\n",
    "    X_train_intercept.T @ X_train_intercept + lambda_ridge * identity_matrix,\n",
    "    X_train_intercept.T @ y_train\n",
    ")\n",
    "\n",
    "# Separate the intercept and feature coefficients\n",
    "ridge_intercept = ridge_coefficients[0]    # First value is the intercept\n",
    "ridge_feature_coefficients = ridge_coefficients[1:]  # Remaining are feature coefficients"
   ]
  },
  {
   "cell_type": "code",
   "execution_count": 48,
   "metadata": {
    "collapsed": true
   },
   "outputs": [],
   "source": [
    "first_five_my_ridge_coefficients = ridge_feature_coefficients[:5]"
   ]
  },
  {
   "cell_type": "code",
   "execution_count": 49,
   "metadata": {
    "colab": {},
    "colab_type": "code",
    "id": "VL0VxlXRrgal"
   },
   "outputs": [],
   "source": [
    "##### YOUR CODE ENDS ##### (please do not delete this line)"
   ]
  },
  {
   "cell_type": "code",
   "execution_count": 50,
   "metadata": {},
   "outputs": [
    {
     "name": "stdout",
     "output_type": "stream",
     "text": [
      "Coefficients of five first features according to my ridge implementation: [7.91026896 7.37023604 6.97156822 6.03240044 4.42825097]\n"
     ]
    }
   ],
   "source": [
    "print('Coefficients of five first features according to my ridge implementation:', first_five_my_ridge_coefficients)"
   ]
  },
  {
   "cell_type": "markdown",
   "metadata": {
    "colab_type": "text",
    "id": "uNO6u0zxrgbp"
   },
   "source": [
    "#### <font color='purple'>(b) Call out the `sklearn.linear_model.Ridge` learning algorithm from the sklearn package. Fit the model on the training data with regularization parameter equal to 1 and save it for use in the following subtasks. Print out the coefficients corresponding to the five first features.</font>\n",
    "\n",
    "Use parameters `solver = \"cholesky\", tol = 0.000000000001` in order to get more similar results to your own implementation. The default parameter for the regularization is already 1 so no need to specify that. The parameters `solver` and `tol` are necessary to force sklearn to use closed-form solution. Otherwise it would use numerical optimization which would give more different results from yours. **In the future tasks, please use the default option and don't force it to use the closed-form solution (numerical will be faster!).**"
   ]
  },
  {
   "cell_type": "code",
   "execution_count": 51,
   "metadata": {
    "colab": {},
    "colab_type": "code",
    "collapsed": true,
    "id": "HIgmQ8efrgb2"
   },
   "outputs": [],
   "source": [
    "##### YOUR CODE STARTS ##### (please do not delete this line)\n",
    "from sklearn.linear_model import Ridge\n",
    "\n",
    "ridge_model = Ridge(solver=\"cholesky\", tol=0.000000000001)\n",
    "\n",
    "ridge_model.fit(X_train, y_train)\n",
    "\n",
    "ridge_intercept_sklearn = ridge_model.intercept_            # Intercept from sklearn model\n",
    "ridge_coefficients_sklearn = ridge_model.coef_              # Coefficients from sklearn model"
   ]
  },
  {
   "cell_type": "code",
   "execution_count": 52,
   "metadata": {
    "collapsed": true
   },
   "outputs": [],
   "source": [
    "first_five_sklearn_ridge_coefficients = ridge_coefficients_sklearn[:5]"
   ]
  },
  {
   "cell_type": "code",
   "execution_count": 53,
   "metadata": {
    "collapsed": true
   },
   "outputs": [],
   "source": [
    "##### YOUR CODE ENDS ##### (please do not delete this line)"
   ]
  },
  {
   "cell_type": "code",
   "execution_count": 54,
   "metadata": {},
   "outputs": [
    {
     "name": "stdout",
     "output_type": "stream",
     "text": [
      "Coefficients of five first features according to my ridge implementation: [7.9028966  7.36974365 6.97110025 6.02447226 4.4245448 ]\n"
     ]
    }
   ],
   "source": [
    "print('Coefficients of five first features according to my ridge implementation:', first_five_sklearn_ridge_coefficients)"
   ]
  },
  {
   "cell_type": "markdown",
   "metadata": {
    "colab_type": "text",
    "id": "w-y4Lqo9rgcs"
   },
   "source": [
    "#### <font color='purple'>(c) Demonstrate the correctess of your implementation the same way as in the previous exercise. For this compare your coefficients and intercept as obtained in subtask (2a) with the coeffiecients and intercept from sklearn, as obtained in subtask (2b). The results can actually vary quite a bit due to implementation differences in matrix operations. Compare that the differences in results (coefficients and intercept) are less than 0.02. If for some reason you are not able to get the assertions to pass with the given precision then please change the precision such that the assertions would pass."
   ]
  },
  {
   "cell_type": "code",
   "execution_count": 55,
   "metadata": {
    "colab": {},
    "colab_type": "code",
    "id": "qxuOfk9Yrgcv"
   },
   "outputs": [
    {
     "name": "stdout",
     "output_type": "stream",
     "text": [
      "The assertions have passed with precision: 0.02\n"
     ]
    }
   ],
   "source": [
    "try:\n",
    "    ##### YOUR CODE STARTS ##### (please do not delete this line)\n",
    "    # raise NotImplementedError(\"Please assign intercepts and coefficients to the given variables.\")\n",
    "    my_ridge_intercept = ridge_intercept\n",
    "    my_ridge_coefficients = ridge_feature_coefficients\n",
    "    sklearn_ridge_intercept = ridge_intercept_sklearn\n",
    "    sklearn_ridge_coefficients = ridge_coefficients_sklearn\n",
    "    precision = 0.02\n",
    "    ##### YOUR CODE ENDS ##### (please do not delete this line)\n",
    "    assert(abs(my_ridge_intercept - sklearn_ridge_intercept) < precision)\n",
    "    for i in range(99):\n",
    "        assert(abs(my_ridge_coefficients[i] - sklearn_ridge_coefficients[i]) < precision)\n",
    "    print('The assertions have passed with precision:',precision)\n",
    "except NotImplementedError as e:\n",
    "    print(CRED, \"TODO:\", e, CEND)"
   ]
  },
  {
   "cell_type": "markdown",
   "metadata": {
    "colab_type": "text",
    "id": "khdbJkRirgdQ"
   },
   "source": [
    "#### <font color='purple'>(d) Train a Lasso model using the sklearn package (use the default regularization parameter) and save it for future use. Print out the coefficients corresponding to the five first features.</font>"
   ]
  },
  {
   "cell_type": "code",
   "execution_count": 56,
   "metadata": {
    "colab": {},
    "colab_type": "code",
    "collapsed": true,
    "id": "F6W0Syy6rgdS"
   },
   "outputs": [],
   "source": [
    "##### YOUR CODE STARTS ##### (please do not delete this line)\n",
    "from sklearn.linear_model import Lasso\n",
    "\n",
    "lasso_model = Lasso()\n",
    "\n",
    "lasso_model.fit(X_train, y_train)\n",
    "\n",
    "lasso_intercept = lasso_model.intercept_            # Intercept from sklearn Lasso model\n",
    "lasso_coefficients = lasso_model.coef_              # Coefficients from sklearn Lasso model"
   ]
  },
  {
   "cell_type": "code",
   "execution_count": 57,
   "metadata": {
    "collapsed": true
   },
   "outputs": [],
   "source": [
    "first_five_sklearn_lasso_coefficients = lasso_coefficients[:5]"
   ]
  },
  {
   "cell_type": "code",
   "execution_count": 58,
   "metadata": {
    "collapsed": true
   },
   "outputs": [],
   "source": [
    "##### YOUR CODE ENDS ##### (please do not delete this line)"
   ]
  },
  {
   "cell_type": "code",
   "execution_count": 59,
   "metadata": {},
   "outputs": [
    {
     "name": "stdout",
     "output_type": "stream",
     "text": [
      "Coefficients of five first features according to sklearn lasso implementation: [6.94577472 5.59046803 5.11228019 3.00075122 2.42991249]\n"
     ]
    }
   ],
   "source": [
    "print('Coefficients of five first features according to sklearn lasso implementation:', first_five_sklearn_lasso_coefficients)"
   ]
  },
  {
   "cell_type": "markdown",
   "metadata": {
    "colab_type": "text",
    "id": "9EIbGggTrgd3"
   },
   "source": [
    "#### <font color='purple'>(e) Evaluate the sklearn Ridge and Lasso models on the training and testing set and calculate and show the RMSE, using the function 'evaluate' from subtask (1d)."
   ]
  },
  {
   "cell_type": "code",
   "execution_count": 60,
   "metadata": {
    "colab": {},
    "colab_type": "code",
    "id": "hhC5F0Bkrgd5"
   },
   "outputs": [
    {
     "name": "stdout",
     "output_type": "stream",
     "text": [
      "Evaluation of sklearn ridge regression model:\n",
      "\n",
      "#################\n",
      "\n",
      "Ridge(solver='cholesky', tol=1e-12) \n",
      "\n",
      "RMSE train: 0.5159376269540175\n",
      "RMSE test: 4.446220364755541\n",
      "Evaluation of sklearn lasso regression model:\n",
      "\n",
      "#################\n",
      "\n",
      "Lasso() \n",
      "\n",
      "RMSE train: 4.984130516628728\n",
      "RMSE test: 5.400343154987264\n"
     ]
    }
   ],
   "source": [
    "try:\n",
    "    print('Evaluation of sklearn ridge regression model:')\n",
    "    ##### YOUR CODE STARTS ##### (please do not delete this line)\n",
    "    evaluate(ridge_model, X_train, y_train, X_test, y_test)\n",
    "    ##### YOUR CODE ENDS ##### (please do not delete this line)\n",
    "    \n",
    "    print('Evaluation of sklearn lasso regression model:')\n",
    "    ##### YOUR CODE STARTS ##### (please do not delete this line)\n",
    "    evaluate(lasso_model, X_train, y_train, X_test, y_test)\n",
    "    ##### YOUR CODE ENDS ##### (please do not delete this line)\n",
    "except NotImplementedError as e:\n",
    "    print(CRED, \"TODO:\", e, CEND)"
   ]
  },
  {
   "cell_type": "markdown",
   "metadata": {
    "colab_type": "text",
    "id": "x7LHNfh3rgeB"
   },
   "source": [
    "## Task 3. Choosing a suitable regularization parameter  (1 point)"
   ]
  },
  {
   "cell_type": "markdown",
   "metadata": {
    "colab_type": "text",
    "id": "EBMOuzErrgeO"
   },
   "source": [
    "Since different parameters can lead to very different results we need to do some parameter tuning and find a suitable regularization parameter for both Ridge and Lasso. We could try out different values and see which ones lead to the best results on the test set. However, then we would overfit to our test data and we would not have an adequate estimate of how good the model is in the end. That is why we need to do parameter tuning only using the training set.\n",
    "\n",
    "Use **alphas = np.linspace(0.01, 10, 100)** for Ridge and **alphas = np.linspace(0.01, 5, 100)** for Lasso. The method generates 100 values with equal steps between the first and second parameter."
   ]
  },
  {
   "cell_type": "markdown",
   "metadata": {
    "colab_type": "text",
    "id": "4zxI4YkTrgef"
   },
   "source": [
    "#### <font color='purple'>(a) **Method 1:** Divide the training set into training and validation set using 90%/10% split and a random seed 0 (train_test_split method). Train Ridge and Lasso models with different alpha values on the training set and calculate the RMSE values on the validation set. Choose and report the alpha that has the best RMSE for Ridge and another alpha that has the best RMSE for Lasso (save both alpha and RMSE values)."
   ]
  },
  {
   "cell_type": "code",
   "execution_count": 61,
   "metadata": {
    "colab": {},
    "colab_type": "code",
    "id": "aP3DO7GArgey"
   },
   "outputs": [
    {
     "name": "stdout",
     "output_type": "stream",
     "text": [
      "Best alpha for Ridge: 0.21181818181818182 RMSE for Ridge: 3.619506194735719\n",
      "Best alpha for Lasso: 0.06040404040404041 RMSE for Lasso: 0.6865670399948179\n"
     ]
    }
   ],
   "source": [
    "def method_1(model,alphas,random_seed):\n",
    "    ##### YOUR CODE STARTS ##### (please do not delete this line)\n",
    "    # raise NotImplementedError(\"Calculate RMSE for Ridge and Lasso models.\")\n",
    "    _X_train, _X_val, _y_train, _y_val = train_test_split(X_train, y_train, test_size=0.1, random_state=random_seed)\n",
    "    best_alpha = None\n",
    "    rmse = None\n",
    "    best_rmse = float('inf')\n",
    "    for alpha in alphas:\n",
    "        model.set_params(alpha=alpha)\n",
    "        model.fit(_X_train, _y_train)\n",
    "        y_pred = model.predict(_X_val)\n",
    "        rmse = np.sqrt(mean_squared_error(_y_val, y_pred))\n",
    "        if rmse < best_rmse:\n",
    "            best_rmse = rmse\n",
    "            best_alpha = alpha\n",
    "    rmse = best_rmse\n",
    "    ##### YOUR CODE ENDS ##### (please do not delete this line)\n",
    "    return best_alpha,rmse\n",
    "\n",
    "try:\n",
    "    ##### YOUR CODE STARTS ##### (please do not delete this line)\n",
    "    ridge_alphas = np.linspace(0.01, 10, 100)\n",
    "    lasso_alphas = np.linspace(0.01, 5, 100)\n",
    "    best_alpha_ridge_1, rmse_ridge_1 = method_1(ridge_model, ridge_alphas, random_seed=seed)\n",
    "    best_alpha_lasso_1, rmse_lasso_1 = method_1(lasso_model, lasso_alphas, random_seed=seed)\n",
    "    print(\"Best alpha for Ridge:\", best_alpha_ridge_1, \"RMSE for Ridge:\", rmse_ridge_1)\n",
    "    print(\"Best alpha for Lasso:\", best_alpha_lasso_1, \"RMSE for Lasso:\", rmse_lasso_1)\n",
    "    ##### YOUR CODE ENDS ##### (please do not delete this line)\n",
    "except NotImplementedError as e:\n",
    "    print(CRED, \"TODO:\", e, CEND)"
   ]
  },
  {
   "cell_type": "markdown",
   "metadata": {
    "colab_type": "text",
    "id": "8O3tUFzBrgfE"
   },
   "source": [
    "#### <font color='purple'>(b) **Method 2:** Instead of doing only one training/validation split, use 10-fold cross validation. For each alpha value calculate the validation errors for each of the folds and average the results. Then choose and report the alpha that has the best RMSE for Ridge and another alpha that has best RMSE for Lasso (save both alpha and RMSE values). For doing the 10-fold split use the sklearn method KFold (kf = KFold(n_splits=10, random_state = 0, shuffle = True)). To see more about how to iterate through the folds see the documentation for the method."
   ]
  },
  {
   "cell_type": "code",
   "execution_count": 62,
   "metadata": {
    "colab": {},
    "colab_type": "code",
    "id": "JEDmkZNdrgfN"
   },
   "outputs": [
    {
     "name": "stdout",
     "output_type": "stream",
     "text": [
      "Best alpha for Ridge: 0.21181818181818182 RMSE for Ridge: 3.864831998133826\n",
      "Best alpha for Lasso: 0.06040404040404041 RMSE for Lasso: 0.7472838567224847\n"
     ]
    }
   ],
   "source": [
    "from sklearn.model_selection import KFold\n",
    "def method_2(model,alphas,random_seed):\n",
    "    ##### YOUR CODE STARTS ##### (please do not delete this line)\n",
    "    # raise NotImplementedError(\"Implement 10-fold cross-validation.\") \n",
    "    kf = KFold(n_splits=10, random_state=random_seed, shuffle=True)\n",
    "    best_alpha = None\n",
    "    rmse=None\n",
    "    best_rmse = float('inf')\n",
    "    for alpha in alphas:\n",
    "        model.set_params(alpha=alpha)  # Set model's alpha value\n",
    "        \n",
    "        # List to store RMSE values for each of the 10 folds\n",
    "        fold_rmse_values = []\n",
    "\n",
    "        # 10-fold cross-validation\n",
    "        for train_index, val_index in kf.split(X_train):\n",
    "            # training and validation sets for this fold\n",
    "            X_train_fold, X_val_fold = X_train.iloc[train_index], X_train.iloc[val_index]\n",
    "            y_train_fold, y_val_fold = y_train.iloc[train_index], y_train.iloc[val_index]\n",
    "            \n",
    "            #  Train the model on the current fold's training data\n",
    "            model.fit(X_train_fold, y_train_fold)\n",
    "            \n",
    "            # Predict on the validation set for this fold\n",
    "            y_pred_fold = model.predict(X_val_fold)\n",
    "            \n",
    "            # Calculate RMSE for the current fold and store it\n",
    "            fold_rmse = np.sqrt(mean_squared_error(y_val_fold, y_pred_fold))\n",
    "            fold_rmse_values.append(fold_rmse)\n",
    "\n",
    "        #  Calculate the mean RMSE across all 10 folds\n",
    "        mean_rmse = np.mean(fold_rmse_values)\n",
    "\n",
    "        #  Update best alpha and RMSE if the current mean RMSE is lower\n",
    "        if mean_rmse < best_rmse:\n",
    "            best_rmse = mean_rmse\n",
    "            best_alpha = alpha\n",
    "    \n",
    "    rmse = best_rmse\n",
    "    ##### YOUR CODE ENDS ##### (please do not delete this line)\n",
    "    return best_alpha,rmse\n",
    "try:\n",
    "    ##### YOUR CODE STARTS ##### (please do not delete this line)\n",
    "    ridge_alphas = np.linspace(0.01, 10, 100)\n",
    "    lasso_alphas = np.linspace(0.01, 5, 100)\n",
    "    best_alpha_lasso_2, rmse_lasso_2 = method_2(lasso_model, lasso_alphas, random_seed=seed)\n",
    "    best_alpha_ridge_2, rmse_ridge_2 = method_2(ridge_model, ridge_alphas, random_seed=seed)\n",
    "    print(\"Best alpha for Ridge:\", best_alpha_ridge_2, \"RMSE for Ridge:\", rmse_ridge_2)\n",
    "    print(\"Best alpha for Lasso:\", best_alpha_lasso_2, \"RMSE for Lasso:\", rmse_lasso_2)\n",
    "    ##### YOUR CODE ENDS ##### (please do not delete this line)\n",
    "except NotImplementedError as e:\n",
    "    print(CRED, \"TODO:\", e, CEND)"
   ]
  },
  {
   "cell_type": "markdown",
   "metadata": {
    "colab_type": "text",
    "id": "HXdDbPANrgfo"
   },
   "source": [
    "## Task 4. Comparing the stability of Method 1 and Method 2  (1 point)"
   ]
  },
  {
   "cell_type": "markdown",
   "metadata": {
    "colab_type": "text",
    "id": "78YSJCQprggD"
   },
   "source": [
    "#### <font color='purple'>(a) Run Method 1 and Method 2 both 10 times, every time using a different value 0,1,2,...,9 as the random_state. Report the best alpha and RMSE for both parameter tuning methods and for both regularization methods for each of the 10 trials."
   ]
  },
  {
   "cell_type": "code",
   "execution_count": 63,
   "metadata": {
    "colab": {},
    "colab_type": "code",
    "collapsed": true,
    "id": "ludiQ_eVrggc"
   },
   "outputs": [],
   "source": [
    "##### YOUR CODE STARTS ##### (please do not delete this line)"
   ]
  },
  {
   "cell_type": "code",
   "execution_count": 64,
   "metadata": {
    "collapsed": true
   },
   "outputs": [
    {
     "name": "stdout",
     "output_type": "stream",
     "text": [
      "\n",
      "Trial 0:\n",
      "Ridge - Method 1: Best Alpha: 0.21181818181818182, RMSE: 3.619506194735719\n",
      "Ridge - Method 2: Best Alpha: 0.21181818181818182, RMSE: 3.864831998133826\n",
      "Lasso - Method 1: Best Alpha: 0.06040404040404041, RMSE: 0.6865670399948179\n",
      "Lasso - Method 2: Best Alpha: 0.06040404040404041, RMSE: 0.7472838567224847\n",
      "\n",
      "Trial 1:\n",
      "Ridge - Method 1: Best Alpha: 0.01, RMSE: 4.030624058908054\n",
      "Ridge - Method 2: Best Alpha: 0.31272727272727274, RMSE: 3.7406663398713214\n",
      "Lasso - Method 1: Best Alpha: 0.06040404040404041, RMSE: 0.6251290073443008\n",
      "Lasso - Method 2: Best Alpha: 0.06040404040404041, RMSE: 0.7497148067671707\n",
      "\n",
      "Trial 2:\n",
      "Ridge - Method 1: Best Alpha: 0.1109090909090909, RMSE: 4.158768566378859\n",
      "Ridge - Method 2: Best Alpha: 0.21181818181818182, RMSE: 3.4401149895757825\n",
      "Lasso - Method 1: Best Alpha: 0.06040404040404041, RMSE: 0.5368738453196877\n",
      "Lasso - Method 2: Best Alpha: 0.06040404040404041, RMSE: 0.7637928241939728\n",
      "\n",
      "Trial 3:\n",
      "Ridge - Method 1: Best Alpha: 0.41363636363636364, RMSE: 3.691419366852118\n",
      "Ridge - Method 2: Best Alpha: 0.1109090909090909, RMSE: 4.298458586783779\n",
      "Lasso - Method 1: Best Alpha: 0.06040404040404041, RMSE: 0.5983790930951064\n",
      "Lasso - Method 2: Best Alpha: 0.06040404040404041, RMSE: 0.7756409709720317\n",
      "\n",
      "Trial 4:\n",
      "Ridge - Method 1: Best Alpha: 0.01, RMSE: 3.1689642174135364\n",
      "Ridge - Method 2: Best Alpha: 0.1109090909090909, RMSE: 3.7470994667975885\n",
      "Lasso - Method 1: Best Alpha: 0.06040404040404041, RMSE: 0.5573902266771658\n",
      "Lasso - Method 2: Best Alpha: 0.06040404040404041, RMSE: 0.7295441770474074\n",
      "\n",
      "Trial 5:\n",
      "Ridge - Method 1: Best Alpha: 0.01, RMSE: 3.6302900065629857\n",
      "Ridge - Method 2: Best Alpha: 0.1109090909090909, RMSE: 3.5207162696135774\n",
      "Lasso - Method 1: Best Alpha: 0.06040404040404041, RMSE: 0.6890571686367831\n",
      "Lasso - Method 2: Best Alpha: 0.06040404040404041, RMSE: 0.7326640362950849\n",
      "\n",
      "Trial 6:\n",
      "Ridge - Method 1: Best Alpha: 0.9181818181818182, RMSE: 1.567038955844006\n",
      "Ridge - Method 2: Best Alpha: 0.1109090909090909, RMSE: 3.856899043088556\n",
      "Lasso - Method 1: Best Alpha: 0.06040404040404041, RMSE: 0.8353025677533595\n",
      "Lasso - Method 2: Best Alpha: 0.06040404040404041, RMSE: 0.7434989936196444\n",
      "\n",
      "Trial 7:\n",
      "Ridge - Method 1: Best Alpha: 0.1109090909090909, RMSE: 3.5761763185009725\n",
      "Ridge - Method 2: Best Alpha: 0.21181818181818182, RMSE: 3.7741841505326748\n",
      "Lasso - Method 1: Best Alpha: 0.01, RMSE: 1.22513110847121\n",
      "Lasso - Method 2: Best Alpha: 0.06040404040404041, RMSE: 0.7532342816308916\n",
      "\n",
      "Trial 8:\n",
      "Ridge - Method 1: Best Alpha: 0.9181818181818182, RMSE: 3.3866368746981124\n",
      "Ridge - Method 2: Best Alpha: 0.1109090909090909, RMSE: 3.672595807250545\n",
      "Lasso - Method 1: Best Alpha: 0.06040404040404041, RMSE: 0.6685079536241867\n",
      "Lasso - Method 2: Best Alpha: 0.06040404040404041, RMSE: 0.7597325858758621\n",
      "\n",
      "Trial 9:\n",
      "Ridge - Method 1: Best Alpha: 0.01, RMSE: 3.586053973592829\n",
      "Ridge - Method 2: Best Alpha: 0.21181818181818182, RMSE: 3.628173617951623\n",
      "Lasso - Method 1: Best Alpha: 0.11080808080808081, RMSE: 0.5332810080270779\n",
      "Lasso - Method 2: Best Alpha: 0.06040404040404041, RMSE: 0.7339992728246794\n"
     ]
    }
   ],
   "source": [
    "ridge_results_method_1 = []\n",
    "ridge_results_method_2 = []\n",
    "\n",
    "lasso_results_method_1 = []\n",
    "lasso_results_method_2 = []\n",
    "\n",
    "# Loop through random_state values from 0 to 9\n",
    "for random_state in range(10):\n",
    "    print(f\"\\nTrial {random_state}:\")\n",
    "\n",
    "    # Run Method 1 for Ridge and Lasso\n",
    "    ridge_best_alpha_1, ridge_best_rmse_1 = method_1(ridge_model, ridge_alphas, random_seed=random_state)\n",
    "    lasso_best_alpha_1, lasso_best_rmse_1 = method_1(lasso_model, lasso_alphas, random_seed=random_state)\n",
    "\n",
    "    # Store the results for Method 1\n",
    "    ridge_results_method_1.append((random_state, ridge_best_alpha_1, ridge_best_rmse_1))\n",
    "    lasso_results_method_1.append((random_state, lasso_best_alpha_1, lasso_best_rmse_1))\n",
    "\n",
    "    # Run Method 2 for Ridge and Lasso\n",
    "    ridge_best_alpha_2, ridge_best_rmse_2 = method_2(ridge_model, ridge_alphas, random_seed=random_state)\n",
    "    lasso_best_alpha_2, lasso_best_rmse_2 = method_2(lasso_model, lasso_alphas, random_seed=random_state)\n",
    "\n",
    "    # Store the results for Method 2\n",
    "    ridge_results_method_2.append((random_state, ridge_best_alpha_2, ridge_best_rmse_2))\n",
    "    lasso_results_method_2.append((random_state, lasso_best_alpha_2, lasso_best_rmse_2))\n",
    "\n",
    "    # Print results for this trial\n",
    "    print(f\"Ridge - Method 1: Best Alpha: {ridge_best_alpha_1}, RMSE: {ridge_best_rmse_1}\")\n",
    "    print(f\"Ridge - Method 2: Best Alpha: {ridge_best_alpha_2}, RMSE: {ridge_best_rmse_2}\")\n",
    "    print(f\"Lasso - Method 1: Best Alpha: {lasso_best_alpha_1}, RMSE: {lasso_best_rmse_1}\")\n",
    "    print(f\"Lasso - Method 2: Best Alpha: {lasso_best_alpha_2}, RMSE: {lasso_best_rmse_2}\")"
   ]
  },
  {
   "cell_type": "code",
   "execution_count": 65,
   "metadata": {
    "collapsed": true
   },
   "outputs": [],
   "source": [
    "##### YOUR CODE ENDS ##### (please do not delete this line)"
   ]
  },
  {
   "cell_type": "markdown",
   "metadata": {
    "colab_type": "text",
    "id": "LloCKK0srggh"
   },
   "source": [
    "#### <font color='purple'>(b) What can you say about the stability of the methods? Which one gives more stable information about which alpha to use? Which alpha values turn out to be best in the end for these data?"
   ]
  },
  {
   "cell_type": "markdown",
   "metadata": {
    "colab_type": "text",
    "id": "9NLHTnRkrggi"
   },
   "source": [
    "**Answer:**\n",
    "For stability, Method 2 (10-fold cross-validation) provides more reliable results compared to Method 1 (single train/validation split). In Ridge Regression, Method 2 consistently selects alpha values in a narrower range, showing less variability across trials. For Lasso Regression, both methods frequently select the same alpha (0.0604), but Method 2 still demonstrates higher consistency. Overall, Method 2 offers more stable information on which alpha to use, making it the preferred method. The best alpha values in the end for these data are around 0.1109 for Ridge and 0.0604 for Lasso, based on the majority of trials."
   ]
  },
  {
   "cell_type": "markdown",
   "metadata": {
    "colab_type": "text",
    "id": "BX9NcjAargg5"
   },
   "source": [
    "#### <font color='purple'>(c) Create two plots (one for Ridge and one for Lasso) where on each plot there are two boxplots - one for showing the distribution of the RMSE values for the 10 trials for Method 1 and the other for Method 2."
   ]
  },
  {
   "cell_type": "code",
   "execution_count": 66,
   "metadata": {
    "colab": {},
    "colab_type": "code",
    "collapsed": true,
    "id": "4ZAWjj4irgg7"
   },
   "outputs": [],
   "source": [
    "##### YOUR CODE STARTS ##### (please do not delete this line)"
   ]
  },
  {
   "cell_type": "code",
   "execution_count": 67,
   "metadata": {
    "collapsed": true
   },
   "outputs": [
    {
     "data": {
      "image/png": "[encoded data removed]",
      "text/plain": [
       "<Figure size 1200x600 with 2 Axes>"
      ]
     },
     "metadata": {},
     "output_type": "display_data"
    }
   ],
   "source": [
    "import matplotlib.pyplot as plt\n",
    "import seaborn as sns\n",
    "import pandas as pd\n",
    "\n",
    "# Extract RMSE values\n",
    "ridge_rmse_method_1 = [rmse for _, _, rmse in ridge_results_method_1]\n",
    "ridge_rmse_method_2 = [rmse for _, _, rmse in ridge_results_method_2]\n",
    "\n",
    "lasso_rmse_method_1 = [rmse for _, _, rmse in lasso_results_method_1]\n",
    "lasso_rmse_method_2 = [rmse for _, _, rmse in lasso_results_method_2]\n",
    "\n",
    "# DataFrames for visualization\n",
    "ridge_rmse_df = pd.DataFrame({\n",
    "    'RMSE': ridge_rmse_method_1 + ridge_rmse_method_2,\n",
    "    'Method': ['Method 1'] * len(ridge_rmse_method_1) + ['Method 2'] * len(ridge_rmse_method_2),\n",
    "    'Model': ['Ridge'] * (len(ridge_rmse_method_1) + len(ridge_rmse_method_2))\n",
    "})\n",
    "\n",
    "lasso_rmse_df = pd.DataFrame({\n",
    "    'RMSE': lasso_rmse_method_1 + lasso_rmse_method_2,\n",
    "    'Method': ['Method 1'] * len(lasso_rmse_method_1) + ['Method 2'] * len(lasso_rmse_method_2),\n",
    "    'Model': ['Lasso'] * (len(lasso_rmse_method_1) + len(lasso_rmse_method_2))\n",
    "})\n",
    "\n",
    "\n",
    "plt.figure(figsize=(12, 6))\n",
    "\n",
    "# Boxplot for Ridge Regression\n",
    "plt.subplot(1, 2, 1)\n",
    "sns.boxplot(x='Method', y='RMSE', data=ridge_rmse_df)\n",
    "plt.title('RMSE Distribution for Ridge Regression')\n",
    "plt.xlabel('Method')\n",
    "plt.ylabel('RMSE')\n",
    "\n",
    "# Boxplot for Lasso Regression\n",
    "plt.subplot(1, 2, 2)\n",
    "sns.boxplot(x='Method', y='RMSE', data=lasso_rmse_df)\n",
    "plt.title('RMSE Distribution for Lasso Regression')\n",
    "plt.xlabel('Method')\n",
    "plt.ylabel('RMSE')\n",
    "\n",
    "# Display the plots\n",
    "plt.tight_layout()\n",
    "plt.show()\n"
   ]
  },
  {
   "cell_type": "code",
   "execution_count": 68,
   "metadata": {
    "collapsed": true
   },
   "outputs": [],
   "source": [
    "##### YOUR CODE ENDS ##### (please do not delete this line)"
   ]
  },
  {
   "cell_type": "markdown",
   "metadata": {
    "colab_type": "text",
    "id": "k5J5EGGirghH"
   },
   "source": [
    "#### <font color='purple'>(d) Comment on why the results look like they do? In general, when tuning parameters, is it better to use one training-validation split or K-fold cross-validation? Why?"
   ]
  },
  {
   "cell_type": "markdown",
   "metadata": {
    "colab_type": "text",
    "id": "A2aciNQMrghJ"
   },
   "source": [
    "**Answer:**\n",
    "The boxplots show that Method 1 (single train-validation split) results in more variable RMSE values for both Ridge and Lasso regression, indicating sensitivity to random splits. This means that the results depend heavily on how the data is divided, leading to less consistent performance. In contrast, Method 2 (10-fold cross-validation) produces more stable and consistent RMSE values because it averages results over multiple splits, reducing the impact of any single split.\n",
    "\n",
    "In general, K-fold cross-validation is a better choice for parameter tuning because it provides a more reliable estimate of model performance. It helps mitigate the risk of overfitting or underfitting that might occur with a single train-validation split. Thus, for tuning parameters like alpha in Ridge and Lasso, K-fold cross-validation should be preferred for its stability and robustness in selecting the best parameters."
   ]
  },
  {
   "cell_type": "markdown",
   "metadata": {
    "colab_type": "text",
    "id": "JjGQ8zLErghK"
   },
   "source": [
    "## Task 5. Regularization parameter effect on the coefficients  (1 point)"
   ]
  },
  {
   "cell_type": "markdown",
   "metadata": {
    "colab_type": "text",
    "id": "M241kW8MrghM"
   },
   "source": [
    "#### <font color='purple'>(a) The regularization parameter influences the values of the coefficients. Create two plots (one for Ridge and one for Lasso) that have the regularization parameter on the x-axis and coefficient values on the y-axis. You don't have to take all 99 values, you can take for example the first 20. Show each coefficient as a line (on the same plot) and comment on what happens when the regularization parameter increases. </font>"
   ]
  },
  {
   "cell_type": "code",
   "execution_count": 69,
   "metadata": {
    "collapsed": true
   },
   "outputs": [],
   "source": [
    "##### YOUR CODE STARTS ##### (please do not delete this line)"
   ]
  },
  {
   "cell_type": "code",
   "execution_count": 70,
   "metadata": {
    "collapsed": true
   },
   "outputs": [
    {
     "data": {
      "image/png": "[encoded data removed]",
      "text/plain": [
       "<Figure size 1400x600 with 2 Axes>"
      ]
     },
     "metadata": {},
     "output_type": "display_data"
    }
   ],
   "source": [
    "import matplotlib.pyplot as plt\n",
    "import numpy as np\n",
    "from sklearn.linear_model import Ridge, Lasso\n",
    "\n",
    "# Select the first 20 features for visualization\n",
    "num_features = 20\n",
    "selected_features = X_train.columns[:num_features]\n",
    "\n",
    "# Create alpha values to test (from 0.01 to 10, as per previous tasks)\n",
    "alphas = np.linspace(0.01, 10, 100)\n",
    "\n",
    "# Create arrays to store coefficients for each alpha\n",
    "ridge_coefficients = np.zeros((len(alphas), num_features))\n",
    "lasso_coefficients = np.zeros((len(alphas), num_features))\n",
    "\n",
    "# Fit Ridge and Lasso models for each alpha and collect coefficients\n",
    "for i, alpha in enumerate(alphas):\n",
    "    ridge_model = Ridge(alpha=alpha)\n",
    "    lasso_model = Lasso(alpha=alpha)\n",
    "    \n",
    "    # Fit models on training data\n",
    "    ridge_model.fit(X_train[selected_features], y_train)\n",
    "    lasso_model.fit(X_train[selected_features], y_train)\n",
    "    \n",
    "    # Store coefficients for the first 20 features\n",
    "    ridge_coefficients[i, :] = ridge_model.coef_\n",
    "    lasso_coefficients[i, :] = lasso_model.coef_\n",
    "\n",
    "# Plot the coefficients for Ridge Regression\n",
    "plt.figure(figsize=(14, 6))\n",
    "\n",
    "# Ridge Coefficients Plot\n",
    "plt.subplot(1, 2, 1)\n",
    "for feature_idx in range(num_features):\n",
    "    plt.plot(alphas, ridge_coefficients[:, feature_idx], label=f'Feature {feature_idx+1}')\n",
    "plt.title('Ridge Regression: Coefficients vs Regularization Parameter')\n",
    "plt.xlabel('Regularization Parameter (Alpha)')\n",
    "plt.ylabel('Coefficient Values')\n",
    "plt.legend(loc='upper right', ncol=2, fontsize='small')\n",
    "\n",
    "# Lasso Coefficients Plot\n",
    "plt.subplot(1, 2, 2)\n",
    "for feature_idx in range(num_features):\n",
    "    plt.plot(alphas, lasso_coefficients[:, feature_idx], label=f'Feature {feature_idx+1}')\n",
    "plt.title('Lasso Regression: Coefficients vs Regularization Parameter')\n",
    "plt.xlabel('Regularization Parameter (Alpha)')\n",
    "plt.ylabel('Coefficient Values')\n",
    "plt.legend(loc='upper right', ncol=2, fontsize='small')\n",
    "\n",
    "# Display the plots\n",
    "plt.tight_layout()\n",
    "plt.show()\n"
   ]
  },
  {
   "cell_type": "markdown",
   "metadata": {},
   "source": [
    "**Summary**:\n",
    "\n",
    "Ridge Regression shrinks all coefficients smoothly, retaining all features in the model.\n",
    "\n",
    "Lasso Regression aggressively reduces many coefficients to zero, effectively performing feature selection and simplifying the model."
   ]
  },
  {
   "cell_type": "code",
   "execution_count": 71,
   "metadata": {
    "colab": {},
    "colab_type": "code",
    "collapsed": true,
    "id": "XNFnFd6GrghT"
   },
   "outputs": [],
   "source": [
    "##### YOUR CODE ENDS ##### (please do not delete this line)"
   ]
  },
  {
   "cell_type": "markdown",
   "metadata": {
    "colab_type": "text",
    "id": "ET4Npwibrghn"
   },
   "source": [
    "#### <font color='purple'>(b) What does Ridge regression do and what does Lasso regression do? How do they differ? </font>"
   ]
  },
  {
   "cell_type": "markdown",
   "metadata": {
    "colab_type": "text",
    "id": "M_5BAu77rghp"
   },
   "source": [
    "**Answer:**\n",
    "Ridge and Lasso regression are both regularization techniques that prevent overfitting by adding a penalty to the loss function, but they differ in how they treat coefficients. Ridge uses an L2 penalty (sum of squared coefficients), which shrinks all coefficients towards zero but retains all features in the model. It’s useful when you want to reduce the influence of less important features without removing them entirely. Lasso, on the other hand, uses an L1 penalty (sum of absolute coefficients), which can shrink some coefficients exactly to zero, effectively removing irrelevant features and performing feature selection. As a result, Lasso creates simpler models by keeping only the most important features, while Ridge maintains all features with smaller coefficients."
   ]
  },
  {
   "cell_type": "markdown",
   "metadata": {
    "colab_type": "text",
    "id": "sWuThxLJrghq"
   },
   "source": [
    "## Task 6. Evaluating different models  (1 point)"
   ]
  },
  {
   "cell_type": "markdown",
   "metadata": {
    "colab_type": "text",
    "id": "c2b91miZrghr"
   },
   "source": [
    "#### <font color='purple'>(a) Choose the values of alpha for Ridge and Lasso according to subtask (4b). Now let's see which model works best for our data by evaluating the test RMSE. Compare the following models by reporting the training and testing set RMSE: </font>\n",
    "\n",
    "1. Non-regularized linear regression\n",
    "2. Ridge regression with your chosen parameter\n",
    "3. Lasso regression with your chosen parameter\n",
    "4. A \"dumb\" model that always predicts the mean value of y_train\n",
    "5. An ideal model that the instructors have used for generating the data (the true coefficients are [10, 9, 8, 7, 6, 5, 4, 3, 2, 1, 0, 0, ..., 0] and intercept 0)."
   ]
  },
  {
   "cell_type": "code",
   "execution_count": 72,
   "metadata": {
    "colab": {},
    "colab_type": "code",
    "collapsed": true,
    "id": "qUmwuUBjrght"
   },
   "outputs": [],
   "source": [
    "##### YOUR CODE STARTS ##### (please do not delete this line)"
   ]
  },
  {
   "cell_type": "code",
   "execution_count": 73,
   "metadata": {
    "collapsed": true
   },
   "outputs": [
    {
     "name": "stdout",
     "output_type": "stream",
     "text": [
      "RMSE Comparison of Models:\n",
      "1. Non-regularized Linear Regression: Train RMSE = 0.0000, Test RMSE = 7.7151\n",
      "2. Ridge Regression (Best Alpha): Train RMSE = 0.2075, Test RMSE = 3.3837\n",
      "3. Lasso Regression (Best Alpha): Train RMSE = 0.6219, Test RMSE = 0.8777\n",
      "4. 'Dumb' Model (Mean Prediction): Train RMSE = 11.0471, Test RMSE = 11.3219\n",
      "5. Ideal Model (True Coefficients): Train RMSE = 0.5749, Test RMSE = 0.6006\n"
     ]
    }
   ],
   "source": [
    "from sklearn.linear_model import LinearRegression\n",
    "from sklearn.metrics import mean_squared_error\n",
    "import numpy as np\n",
    "\n",
    "# Fit and evaluate the non-regularized linear regression model\n",
    "linear_model = LinearRegression()\n",
    "linear_model.fit(X_train, y_train)\n",
    "\n",
    "# Predictions\n",
    "y_train_pred_linear = linear_model.predict(X_train)\n",
    "y_test_pred_linear = linear_model.predict(X_test)\n",
    "\n",
    "# Calculate RMSE\n",
    "rmse_train_linear = np.sqrt(mean_squared_error(y_train, y_train_pred_linear))\n",
    "rmse_test_linear = np.sqrt(mean_squared_error(y_test, y_test_pred_linear))\n",
    "\n",
    "###########################################################################################################################\n",
    "\n",
    "# Fit and evaluate the Ridge regression model with the chosen alpha\n",
    "ridge_model_best = Ridge(alpha= best_alpha_ridge_2)  # Use the best alpha found in subtask 4(b)\n",
    "ridge_model_best.fit(X_train, y_train)\n",
    "\n",
    "# Predictions\n",
    "y_train_pred_ridge = ridge_model_best.predict(X_train)\n",
    "y_test_pred_ridge = ridge_model_best.predict(X_test)\n",
    "\n",
    "# Calculate RMSE\n",
    "rmse_train_ridge = np.sqrt(mean_squared_error(y_train, y_train_pred_ridge))\n",
    "rmse_test_ridge = np.sqrt(mean_squared_error(y_test, y_test_pred_ridge))\n",
    "\n",
    "###########################################################################################################################\n",
    "\n",
    "# Fit and evaluate the Lasso regression model with the chosen alpha\n",
    "lasso_model_best = Lasso(alpha=lasso_best_alpha_2)  # Use the best alpha found in subtask 4(b)\n",
    "lasso_model_best.fit(X_train, y_train)\n",
    "\n",
    "# Predictions\n",
    "y_train_pred_lasso = lasso_model_best.predict(X_train)\n",
    "y_test_pred_lasso = lasso_model_best.predict(X_test)\n",
    "\n",
    "# Calculate RMSE\n",
    "rmse_train_lasso = np.sqrt(mean_squared_error(y_train, y_train_pred_lasso))\n",
    "rmse_test_lasso = np.sqrt(mean_squared_error(y_test, y_test_pred_lasso))\n",
    "\n",
    "###########################################################################################################################\n",
    "\n",
    "# \"Dumb\" model that predicts the mean value of y_train\n",
    "y_train_mean = np.mean(y_train)\n",
    "y_train_pred_mean = np.full_like(y_train, y_train_mean)\n",
    "y_test_pred_mean = np.full_like(y_test, y_train_mean)\n",
    "\n",
    "# Calculate RMSE\n",
    "rmse_train_mean = np.sqrt(mean_squared_error(y_train, y_train_pred_mean))\n",
    "rmse_test_mean = np.sqrt(mean_squared_error(y_test, y_test_pred_mean))\n",
    "\n",
    "###########################################################################################################################\n",
    "\n",
    "# Ideal model with true coefficients\n",
    "true_coefficients = [10, 9, 8, 7, 6, 5, 4, 3, 2, 1] + [0] * (X_train.shape[1] - 10)\n",
    "true_intercept = 0\n",
    "\n",
    "# Generate predictions for training and testing sets using the true coefficients\n",
    "y_train_pred_ideal = X_train @ true_coefficients + true_intercept\n",
    "y_test_pred_ideal = X_test @ true_coefficients + true_intercept\n",
    "\n",
    "# Calculate RMSE\n",
    "rmse_train_ideal = np.sqrt(mean_squared_error(y_train, y_train_pred_ideal))\n",
    "rmse_test_ideal = np.sqrt(mean_squared_error(y_test, y_test_pred_ideal))\n",
    "\n",
    "###########################################################################################################################\n",
    "\n",
    "# Display the RMSE results for all models\n",
    "print(\"RMSE Comparison of Models:\")\n",
    "print(f\"1. Non-regularized Linear Regression: Train RMSE = {rmse_train_linear:.4f}, Test RMSE = {rmse_test_linear:.4f}\")\n",
    "print(f\"2. Ridge Regression (Best Alpha): Train RMSE = {rmse_train_ridge:.4f}, Test RMSE = {rmse_test_ridge:.4f}\")\n",
    "print(f\"3. Lasso Regression (Best Alpha): Train RMSE = {rmse_train_lasso:.4f}, Test RMSE = {rmse_test_lasso:.4f}\")\n",
    "print(f\"4. 'Dumb' Model (Mean Prediction): Train RMSE = {rmse_train_mean:.4f}, Test RMSE = {rmse_test_mean:.4f}\")\n",
    "print(f\"5. Ideal Model (True Coefficients): Train RMSE = {rmse_train_ideal:.4f}, Test RMSE = {rmse_test_ideal:.4f}\")\n"
   ]
  },
  {
   "cell_type": "code",
   "execution_count": 74,
   "metadata": {
    "collapsed": true
   },
   "outputs": [],
   "source": [
    "##### YOUR CODE ENDS ##### (please do not delete this line)"
   ]
  },
  {
   "cell_type": "markdown",
   "metadata": {
    "colab_type": "text",
    "id": "qgoYXKLNrgh4"
   },
   "source": [
    "#### <font color='purple'>(b) Which method gives the best results and by looking at which value do you claim that? Why did this method work the best in your opinion?"
   ]
  },
  {
   "cell_type": "markdown",
   "metadata": {
    "colab_type": "text",
    "id": "I5rguRr0rgh6"
   },
   "source": [
    "**Answer:**\n",
    "\n",
    "The best results are achieved by Lasso Regression, as indicated by its lowest Test RMSE value of 0.8777.\n",
    "\n",
    "Lasso outperformed other models because of its feature selection capability. It sets less important coefficients to zero, simplifying the model and retaining only the most relevant features. This results in a model that is less likely to overfit compared to non-regularized linear regression or Ridge regression, which keep all features regardless of their significance. By using only the most critical features, Lasso is able to generalize better to new data, which is why it had the lowest Test RMSE."
   ]
  },
  {
   "cell_type": "markdown",
   "metadata": {
    "colab_type": "text",
    "id": "EflwOObYrgiB"
   },
   "source": [
    "#### <font color='purple'>(c) Were all of the \"smart\" models better than the \"dumb\" one (baseline). What would it mean if the learned model would give worse results?"
   ]
  },
  {
   "cell_type": "markdown",
   "metadata": {
    "colab_type": "text",
    "id": "OmoDn4DOrgiJ"
   },
   "source": [
    "**Answer:**\n",
    "Yes, all of the \"smart\" models (Non-regularized Linear Regression, Ridge, Lasso, and the Ideal model) performed significantly better than the \"dumb\" model (which always predicts the mean value of y_train). The \"dumb\" model had a high Test RMSE of 11.3219, while all the other models achieved much lower RMSE values, demonstrating their ability to capture patterns in the data beyond the baseline.\n",
    "\n",
    "If a learned model produced worse results than the \"dumb\" model, it would indicate that the model is failing to learn any meaningful relationships in the data. This could happen if the model is highly overfitting, underfitting"
   ]
  },
  {
   "cell_type": "markdown",
   "metadata": {
    "colab_type": "text",
    "id": "ay6Gws1OrgiL"
   },
   "source": [
    "#### <font color='purple'>(d) Were the learned models far from the ideal one? Were the learned coefficients similar to the true ones?"
   ]
  },
  {
   "cell_type": "markdown",
   "metadata": {
    "colab_type": "text",
    "id": "lNGwKZ1jrgiN"
   },
   "source": [
    "**Answer:**\n",
    "The learned models, especially Lasso and Ridge, were quite close to the ideal model in terms of performance, but not exact. The Ideal model had a Test RMSE of 0.6006, while Lasso had a Test RMSE of 0.8777 and Ridge had a Test RMSE of 3.3837. This indicates that Lasso came closest to the ideal model’s performance, while Ridge and the non-regularized model were further away.\n",
    "\n",
    "\n",
    "Regarding the coefficients, Lasso was able to approximate the true coefficients better because of its feature selection property, which tends to push irrelevant coefficients to zero. However, it’s unlikely that the learned coefficients were exactly the same as the true ones, especially due to the regularization effects of Lasso and Ridge, which inherently modify coefficient values. Any differences between the learned coefficients and the true coefficients could be attributed to regularization and the presence of noise or complexity in the data that the ideal model does not account for."
   ]
  },
  {
   "cell_type": "markdown",
   "metadata": {
    "colab_type": "text",
    "id": "edUWkelmrgiO"
   },
   "source": [
    "#### <font color='purple'>(e) Which model overfitted the most, how can you see that?"
   ]
  },
  {
   "cell_type": "markdown",
   "metadata": {
    "colab_type": "text",
    "id": "LvcBOUuQrgiQ"
   },
   "source": [
    "**Answer:**\n",
    "The non-regularized linear regression model overfitted the most. This is evident because it had a Train RMSE of 0.0000, indicating a perfect fit on the training data, but a much higher Test RMSE of 7.7151. The large gap between the train and test RMSE values shows that the model memorized the training data and failed to generalize to the test set. This is a clear sign of overfitting, as it performs extremely well on training data but poorly on unseen data."
   ]
  },
  {
   "cell_type": "markdown",
   "metadata": {
    "colab_type": "text",
    "id": "ZQvCr7vqrgiY"
   },
   "source": [
    "#### <font color='purple'>(f) Are regularized methods always better than methods without regularization (not only in this case but in general). Why/why not?"
   ]
  },
  {
   "cell_type": "markdown",
   "metadata": {
    "colab_type": "text",
    "id": "ZCgKEIGzrgic"
   },
   "source": [
    "**Answer:**\n",
    "Regularized methods are not always better than non-regularized ones. Regularization is beneficial when the model is complex or the data is small and noisy, as it prevents overfitting. However, in large, clean datasets with strong features, non-regularized methods can perform just as well or even better. The choice depends on the data and should be based on model evaluation and cross-validation results."
   ]
  },
  {
   "cell_type": "markdown",
   "metadata": {},
   "source": [
    " ## <font color='red'>This was the last task! Please restart and run all before submission!</font>"
   ]
  }
 ],
 "metadata": {
  "anaconda-cloud": {},
  "colab": {
   "name": "HW2.ipynb",
   "provenance": [],
   "version": "0.3.2"
  },
  "kernelspec": {
   "display_name": "Python 3",
   "language": "python",
   "name": "python3"
  },
  "language_info": {
   "codemirror_mode": {
    "name": "ipython",
    "version": 3
   },
   "file_extension": ".py",
   "mimetype": "text/x-python",
   "name": "python",
   "nbconvert_exporter": "python",
   "pygments_lexer": "ipython3",
   "version": "3.11.8"
  }
 },
 "nbformat": 4,
 "nbformat_minor": 1
}
